{
  "nbformat": 4,
  "nbformat_minor": 0,
  "metadata": {
    "colab": {
      "name": "Last-version-GR02_TP_4_Regression_RNN_ISF_script.ipynb",
      "provenance": []
    },
    "kernelspec": {
      "name": "python3",
      "display_name": "Python 3"
    },
    "language_info": {
      "name": "python"
    }
  },
  "cells": [
    {
      "cell_type": "markdown",
      "metadata": {
        "id": "SFeAOf1XImTd"
      },
      "source": [
        "**Préparation des données**"
      ]
    },
    {
      "cell_type": "code",
      "metadata": {
        "id": "u-rFViD73oMS"
      },
      "source": [
        "import numpy as np\n",
        "import matplotlib.pyplot as plt\n",
        "import pandas as pd"
      ],
      "execution_count": null,
      "outputs": []
    },
    {
      "cell_type": "code",
      "metadata": {
        "id": "fis12AmVJAH-"
      },
      "source": [
        "import pandas_datareader.data as web\n",
        "import datetime"
      ],
      "execution_count": null,
      "outputs": []
    },
    {
      "cell_type": "code",
      "metadata": {
        "id": "_wjqZ1T9L5eR"
      },
      "source": [
        "from sklearn.preprocessing import MinMaxScaler\n",
        "from sklearn.preprocessing import StandardScaler\n",
        "from sklearn.metrics import r2_score\n",
        "from sklearn.metrics import mean_squared_error"
      ],
      "execution_count": null,
      "outputs": []
    },
    {
      "cell_type": "code",
      "metadata": {
        "id": "yr2y_zOJMiaH"
      },
      "source": [
        "# Import libraries Keras \n",
        "from keras.models import Sequential\n",
        "from keras.layers import Dense\n",
        "from keras.layers import LSTM\n",
        "from keras.layers import Dropout\n",
        "from tensorflow.keras.callbacks import EarlyStopping"
      ],
      "execution_count": null,
      "outputs": []
    },
    {
      "cell_type": "markdown",
      "metadata": {
        "id": "bOH9d0CdI0g4"
      },
      "source": [
        "Action Sanofi"
      ]
    },
    {
      "cell_type": "code",
      "metadata": {
        "id": "fwQCOjo1I0zo"
      },
      "source": [
        "jour_debut = 3\n",
        "mois_debut = 1\n",
        "annee_debut = 2017\n",
        "mois_fin = 1\n",
        "jour_fin = 29\n",
        "annee_fin = 2021"
      ],
      "execution_count": null,
      "outputs": []
    },
    {
      "cell_type": "code",
      "metadata": {
        "id": "XD0go5v2JjbQ"
      },
      "source": [
        "# date de début : année puis mois puis jour\n",
        "start = datetime.datetime(annee_debut, mois_debut, jour_debut)\n",
        "# date de fin\n",
        "end = datetime.datetime(annee_fin, mois_fin, jour_fin)\n",
        "\n",
        "Sanofi_train = web.DataReader(\"SAN.PA\", 'yahoo', start, end)"
      ],
      "execution_count": null,
      "outputs": []
    },
    {
      "cell_type": "code",
      "metadata": {
        "id": "rhWg_0wfJt3n"
      },
      "source": [
        "jour_debut = 1\n",
        "mois_debut = 2\n",
        "annee_debut = 2021\n",
        "mois_fin = 2\n",
        "jour_fin = 26\n",
        "annee_fin = 2021"
      ],
      "execution_count": null,
      "outputs": []
    },
    {
      "cell_type": "code",
      "metadata": {
        "id": "2-RCGMrQJzcA"
      },
      "source": [
        "# date de début : année puis mois puis jour\n",
        "start = datetime.datetime(annee_debut, mois_debut, jour_debut)\n",
        "# date de fin\n",
        "end = datetime.datetime(annee_fin, mois_fin, jour_fin)\n",
        "\n",
        "Sanofi_test = web.DataReader(\"SAN.PA\", 'yahoo', start, end)"
      ],
      "execution_count": null,
      "outputs": []
    },
    {
      "cell_type": "code",
      "metadata": {
        "colab": {
          "base_uri": "https://localhost:8080/",
          "height": 220
        },
        "id": "Vihjk4IVJ5H_",
        "outputId": "bd078651-56da-48c4-c293-a842a3f2dd05"
      },
      "source": [
        "Sanofi_train.tail()"
      ],
      "execution_count": null,
      "outputs": [
        {
          "output_type": "execute_result",
          "data": {
            "text/html": [
              "<div>\n",
              "<style scoped>\n",
              "    .dataframe tbody tr th:only-of-type {\n",
              "        vertical-align: middle;\n",
              "    }\n",
              "\n",
              "    .dataframe tbody tr th {\n",
              "        vertical-align: top;\n",
              "    }\n",
              "\n",
              "    .dataframe thead th {\n",
              "        text-align: right;\n",
              "    }\n",
              "</style>\n",
              "<table border=\"1\" class=\"dataframe\">\n",
              "  <thead>\n",
              "    <tr style=\"text-align: right;\">\n",
              "      <th></th>\n",
              "      <th>High</th>\n",
              "      <th>Low</th>\n",
              "      <th>Open</th>\n",
              "      <th>Close</th>\n",
              "      <th>Volume</th>\n",
              "      <th>Adj Close</th>\n",
              "    </tr>\n",
              "    <tr>\n",
              "      <th>Date</th>\n",
              "      <th></th>\n",
              "      <th></th>\n",
              "      <th></th>\n",
              "      <th></th>\n",
              "      <th></th>\n",
              "      <th></th>\n",
              "    </tr>\n",
              "  </thead>\n",
              "  <tbody>\n",
              "    <tr>\n",
              "      <th>2021-01-25</th>\n",
              "      <td>82.139999</td>\n",
              "      <td>80.779999</td>\n",
              "      <td>82.139999</td>\n",
              "      <td>81.500000</td>\n",
              "      <td>1820478.0</td>\n",
              "      <td>78.497124</td>\n",
              "    </tr>\n",
              "    <tr>\n",
              "      <th>2021-01-26</th>\n",
              "      <td>81.980003</td>\n",
              "      <td>80.949997</td>\n",
              "      <td>81.080002</td>\n",
              "      <td>81.070000</td>\n",
              "      <td>2053028.0</td>\n",
              "      <td>78.082962</td>\n",
              "    </tr>\n",
              "    <tr>\n",
              "      <th>2021-01-27</th>\n",
              "      <td>81.970001</td>\n",
              "      <td>79.070000</td>\n",
              "      <td>81.309998</td>\n",
              "      <td>79.070000</td>\n",
              "      <td>3352652.0</td>\n",
              "      <td>76.156654</td>\n",
              "    </tr>\n",
              "    <tr>\n",
              "      <th>2021-01-28</th>\n",
              "      <td>79.180000</td>\n",
              "      <td>78.019997</td>\n",
              "      <td>78.099998</td>\n",
              "      <td>79.089996</td>\n",
              "      <td>2983550.0</td>\n",
              "      <td>76.175911</td>\n",
              "    </tr>\n",
              "    <tr>\n",
              "      <th>2021-01-29</th>\n",
              "      <td>78.830002</td>\n",
              "      <td>77.150002</td>\n",
              "      <td>78.000000</td>\n",
              "      <td>77.150002</td>\n",
              "      <td>3486740.0</td>\n",
              "      <td>74.307396</td>\n",
              "    </tr>\n",
              "  </tbody>\n",
              "</table>\n",
              "</div>"
            ],
            "text/plain": [
              "                 High        Low       Open      Close     Volume  Adj Close\n",
              "Date                                                                        \n",
              "2021-01-25  82.139999  80.779999  82.139999  81.500000  1820478.0  78.497124\n",
              "2021-01-26  81.980003  80.949997  81.080002  81.070000  2053028.0  78.082962\n",
              "2021-01-27  81.970001  79.070000  81.309998  79.070000  3352652.0  76.156654\n",
              "2021-01-28  79.180000  78.019997  78.099998  79.089996  2983550.0  76.175911\n",
              "2021-01-29  78.830002  77.150002  78.000000  77.150002  3486740.0  74.307396"
            ]
          },
          "metadata": {
            "tags": []
          },
          "execution_count": 385
        }
      ]
    },
    {
      "cell_type": "code",
      "metadata": {
        "colab": {
          "base_uri": "https://localhost:8080/",
          "height": 651
        },
        "id": "TlNgg5-6J5x2",
        "outputId": "bd3edce2-ca03-48b5-96d2-1c489c4c8978"
      },
      "source": [
        "Sanofi_test.head(20)"
      ],
      "execution_count": null,
      "outputs": [
        {
          "output_type": "execute_result",
          "data": {
            "text/html": [
              "<div>\n",
              "<style scoped>\n",
              "    .dataframe tbody tr th:only-of-type {\n",
              "        vertical-align: middle;\n",
              "    }\n",
              "\n",
              "    .dataframe tbody tr th {\n",
              "        vertical-align: top;\n",
              "    }\n",
              "\n",
              "    .dataframe thead th {\n",
              "        text-align: right;\n",
              "    }\n",
              "</style>\n",
              "<table border=\"1\" class=\"dataframe\">\n",
              "  <thead>\n",
              "    <tr style=\"text-align: right;\">\n",
              "      <th></th>\n",
              "      <th>High</th>\n",
              "      <th>Low</th>\n",
              "      <th>Open</th>\n",
              "      <th>Close</th>\n",
              "      <th>Volume</th>\n",
              "      <th>Adj Close</th>\n",
              "    </tr>\n",
              "    <tr>\n",
              "      <th>Date</th>\n",
              "      <th></th>\n",
              "      <th></th>\n",
              "      <th></th>\n",
              "      <th></th>\n",
              "      <th></th>\n",
              "      <th></th>\n",
              "    </tr>\n",
              "  </thead>\n",
              "  <tbody>\n",
              "    <tr>\n",
              "      <th>2021-02-01</th>\n",
              "      <td>78.830002</td>\n",
              "      <td>77.500000</td>\n",
              "      <td>77.879997</td>\n",
              "      <td>78.209999</td>\n",
              "      <td>1948193</td>\n",
              "      <td>75.328339</td>\n",
              "    </tr>\n",
              "    <tr>\n",
              "      <th>2021-02-02</th>\n",
              "      <td>79.430000</td>\n",
              "      <td>78.110001</td>\n",
              "      <td>78.269997</td>\n",
              "      <td>78.599998</td>\n",
              "      <td>2417655</td>\n",
              "      <td>75.703972</td>\n",
              "    </tr>\n",
              "    <tr>\n",
              "      <th>2021-02-03</th>\n",
              "      <td>79.510002</td>\n",
              "      <td>77.540001</td>\n",
              "      <td>78.779999</td>\n",
              "      <td>77.730003</td>\n",
              "      <td>2096196</td>\n",
              "      <td>74.866028</td>\n",
              "    </tr>\n",
              "    <tr>\n",
              "      <th>2021-02-04</th>\n",
              "      <td>79.190002</td>\n",
              "      <td>77.190002</td>\n",
              "      <td>77.199997</td>\n",
              "      <td>78.830002</td>\n",
              "      <td>2182240</td>\n",
              "      <td>75.925499</td>\n",
              "    </tr>\n",
              "    <tr>\n",
              "      <th>2021-02-05</th>\n",
              "      <td>81.370003</td>\n",
              "      <td>79.980003</td>\n",
              "      <td>81.180000</td>\n",
              "      <td>80.010002</td>\n",
              "      <td>3028985</td>\n",
              "      <td>77.062019</td>\n",
              "    </tr>\n",
              "    <tr>\n",
              "      <th>2021-02-08</th>\n",
              "      <td>81.650002</td>\n",
              "      <td>80.300003</td>\n",
              "      <td>80.550003</td>\n",
              "      <td>80.769997</td>\n",
              "      <td>2211880</td>\n",
              "      <td>77.794014</td>\n",
              "    </tr>\n",
              "    <tr>\n",
              "      <th>2021-02-09</th>\n",
              "      <td>80.769997</td>\n",
              "      <td>79.639999</td>\n",
              "      <td>80.550003</td>\n",
              "      <td>80.580002</td>\n",
              "      <td>1912708</td>\n",
              "      <td>77.611023</td>\n",
              "    </tr>\n",
              "    <tr>\n",
              "      <th>2021-02-10</th>\n",
              "      <td>81.089996</td>\n",
              "      <td>79.110001</td>\n",
              "      <td>81.000000</td>\n",
              "      <td>79.459999</td>\n",
              "      <td>2215841</td>\n",
              "      <td>76.532280</td>\n",
              "    </tr>\n",
              "    <tr>\n",
              "      <th>2021-02-11</th>\n",
              "      <td>79.720001</td>\n",
              "      <td>77.639999</td>\n",
              "      <td>79.110001</td>\n",
              "      <td>77.809998</td>\n",
              "      <td>3274514</td>\n",
              "      <td>74.943077</td>\n",
              "    </tr>\n",
              "    <tr>\n",
              "      <th>2021-02-12</th>\n",
              "      <td>78.290001</td>\n",
              "      <td>77.580002</td>\n",
              "      <td>77.790001</td>\n",
              "      <td>78.160004</td>\n",
              "      <td>1860550</td>\n",
              "      <td>75.280190</td>\n",
              "    </tr>\n",
              "    <tr>\n",
              "      <th>2021-02-15</th>\n",
              "      <td>78.930000</td>\n",
              "      <td>77.849998</td>\n",
              "      <td>78.379997</td>\n",
              "      <td>78.540001</td>\n",
              "      <td>1410104</td>\n",
              "      <td>75.646179</td>\n",
              "    </tr>\n",
              "    <tr>\n",
              "      <th>2021-02-16</th>\n",
              "      <td>78.959999</td>\n",
              "      <td>77.919998</td>\n",
              "      <td>78.650002</td>\n",
              "      <td>78.040001</td>\n",
              "      <td>1600003</td>\n",
              "      <td>75.164604</td>\n",
              "    </tr>\n",
              "    <tr>\n",
              "      <th>2021-02-17</th>\n",
              "      <td>79.180000</td>\n",
              "      <td>77.839996</td>\n",
              "      <td>78.040001</td>\n",
              "      <td>78.779999</td>\n",
              "      <td>2372032</td>\n",
              "      <td>75.877335</td>\n",
              "    </tr>\n",
              "    <tr>\n",
              "      <th>2021-02-18</th>\n",
              "      <td>78.690002</td>\n",
              "      <td>77.879997</td>\n",
              "      <td>78.550003</td>\n",
              "      <td>78.239998</td>\n",
              "      <td>1610634</td>\n",
              "      <td>75.357231</td>\n",
              "    </tr>\n",
              "    <tr>\n",
              "      <th>2021-02-19</th>\n",
              "      <td>78.389999</td>\n",
              "      <td>76.430000</td>\n",
              "      <td>77.940002</td>\n",
              "      <td>77.010002</td>\n",
              "      <td>2624758</td>\n",
              "      <td>74.172554</td>\n",
              "    </tr>\n",
              "    <tr>\n",
              "      <th>2021-02-22</th>\n",
              "      <td>76.959999</td>\n",
              "      <td>76.290001</td>\n",
              "      <td>76.629997</td>\n",
              "      <td>76.300003</td>\n",
              "      <td>1521805</td>\n",
              "      <td>73.488716</td>\n",
              "    </tr>\n",
              "    <tr>\n",
              "      <th>2021-02-23</th>\n",
              "      <td>76.959999</td>\n",
              "      <td>75.660004</td>\n",
              "      <td>76.250000</td>\n",
              "      <td>76.620003</td>\n",
              "      <td>2023883</td>\n",
              "      <td>73.796928</td>\n",
              "    </tr>\n",
              "    <tr>\n",
              "      <th>2021-02-24</th>\n",
              "      <td>77.129997</td>\n",
              "      <td>76.220001</td>\n",
              "      <td>76.400002</td>\n",
              "      <td>76.629997</td>\n",
              "      <td>2030968</td>\n",
              "      <td>73.806557</td>\n",
              "    </tr>\n",
              "    <tr>\n",
              "      <th>2021-02-25</th>\n",
              "      <td>76.480003</td>\n",
              "      <td>75.540001</td>\n",
              "      <td>76.260002</td>\n",
              "      <td>75.650002</td>\n",
              "      <td>2373849</td>\n",
              "      <td>72.862663</td>\n",
              "    </tr>\n",
              "    <tr>\n",
              "      <th>2021-02-26</th>\n",
              "      <td>77.360001</td>\n",
              "      <td>75.000000</td>\n",
              "      <td>75.099998</td>\n",
              "      <td>75.800003</td>\n",
              "      <td>2988768</td>\n",
              "      <td>73.007141</td>\n",
              "    </tr>\n",
              "  </tbody>\n",
              "</table>\n",
              "</div>"
            ],
            "text/plain": [
              "                 High        Low       Open      Close   Volume  Adj Close\n",
              "Date                                                                      \n",
              "2021-02-01  78.830002  77.500000  77.879997  78.209999  1948193  75.328339\n",
              "2021-02-02  79.430000  78.110001  78.269997  78.599998  2417655  75.703972\n",
              "2021-02-03  79.510002  77.540001  78.779999  77.730003  2096196  74.866028\n",
              "2021-02-04  79.190002  77.190002  77.199997  78.830002  2182240  75.925499\n",
              "2021-02-05  81.370003  79.980003  81.180000  80.010002  3028985  77.062019\n",
              "2021-02-08  81.650002  80.300003  80.550003  80.769997  2211880  77.794014\n",
              "2021-02-09  80.769997  79.639999  80.550003  80.580002  1912708  77.611023\n",
              "2021-02-10  81.089996  79.110001  81.000000  79.459999  2215841  76.532280\n",
              "2021-02-11  79.720001  77.639999  79.110001  77.809998  3274514  74.943077\n",
              "2021-02-12  78.290001  77.580002  77.790001  78.160004  1860550  75.280190\n",
              "2021-02-15  78.930000  77.849998  78.379997  78.540001  1410104  75.646179\n",
              "2021-02-16  78.959999  77.919998  78.650002  78.040001  1600003  75.164604\n",
              "2021-02-17  79.180000  77.839996  78.040001  78.779999  2372032  75.877335\n",
              "2021-02-18  78.690002  77.879997  78.550003  78.239998  1610634  75.357231\n",
              "2021-02-19  78.389999  76.430000  77.940002  77.010002  2624758  74.172554\n",
              "2021-02-22  76.959999  76.290001  76.629997  76.300003  1521805  73.488716\n",
              "2021-02-23  76.959999  75.660004  76.250000  76.620003  2023883  73.796928\n",
              "2021-02-24  77.129997  76.220001  76.400002  76.629997  2030968  73.806557\n",
              "2021-02-25  76.480003  75.540001  76.260002  75.650002  2373849  72.862663\n",
              "2021-02-26  77.360001  75.000000  75.099998  75.800003  2988768  73.007141"
            ]
          },
          "metadata": {
            "tags": []
          },
          "execution_count": 386
        }
      ]
    },
    {
      "cell_type": "code",
      "metadata": {
        "id": "aiyYGEsNJ548"
      },
      "source": [
        "# On remplace les dates par des indices\n",
        "Sanofi_train  = Sanofi_train.rename_axis('Date').reset_index()"
      ],
      "execution_count": null,
      "outputs": []
    },
    {
      "cell_type": "code",
      "metadata": {
        "colab": {
          "base_uri": "https://localhost:8080/",
          "height": 191
        },
        "id": "ytV5Fl_MKpHs",
        "outputId": "a73188d9-b0d3-47f5-f7df-f1c3ad4baa81"
      },
      "source": [
        "Sanofi_train.head()"
      ],
      "execution_count": null,
      "outputs": [
        {
          "output_type": "execute_result",
          "data": {
            "text/html": [
              "<div>\n",
              "<style scoped>\n",
              "    .dataframe tbody tr th:only-of-type {\n",
              "        vertical-align: middle;\n",
              "    }\n",
              "\n",
              "    .dataframe tbody tr th {\n",
              "        vertical-align: top;\n",
              "    }\n",
              "\n",
              "    .dataframe thead th {\n",
              "        text-align: right;\n",
              "    }\n",
              "</style>\n",
              "<table border=\"1\" class=\"dataframe\">\n",
              "  <thead>\n",
              "    <tr style=\"text-align: right;\">\n",
              "      <th></th>\n",
              "      <th>Date</th>\n",
              "      <th>High</th>\n",
              "      <th>Low</th>\n",
              "      <th>Open</th>\n",
              "      <th>Close</th>\n",
              "      <th>Volume</th>\n",
              "      <th>Adj Close</th>\n",
              "    </tr>\n",
              "  </thead>\n",
              "  <tbody>\n",
              "    <tr>\n",
              "      <th>0</th>\n",
              "      <td>2017-01-03</td>\n",
              "      <td>78.919998</td>\n",
              "      <td>77.900002</td>\n",
              "      <td>78.250000</td>\n",
              "      <td>78.300003</td>\n",
              "      <td>2325991.0</td>\n",
              "      <td>64.504875</td>\n",
              "    </tr>\n",
              "    <tr>\n",
              "      <th>1</th>\n",
              "      <td>2017-01-04</td>\n",
              "      <td>78.599998</td>\n",
              "      <td>77.930000</td>\n",
              "      <td>78.290001</td>\n",
              "      <td>78.300003</td>\n",
              "      <td>2371916.0</td>\n",
              "      <td>64.504875</td>\n",
              "    </tr>\n",
              "    <tr>\n",
              "      <th>2</th>\n",
              "      <td>2017-01-05</td>\n",
              "      <td>78.660004</td>\n",
              "      <td>77.370003</td>\n",
              "      <td>77.540001</td>\n",
              "      <td>78.269997</td>\n",
              "      <td>2402135.0</td>\n",
              "      <td>64.480156</td>\n",
              "    </tr>\n",
              "    <tr>\n",
              "      <th>3</th>\n",
              "      <td>2017-01-06</td>\n",
              "      <td>77.110001</td>\n",
              "      <td>75.529999</td>\n",
              "      <td>77.000000</td>\n",
              "      <td>76.690002</td>\n",
              "      <td>3922003.0</td>\n",
              "      <td>63.178539</td>\n",
              "    </tr>\n",
              "    <tr>\n",
              "      <th>4</th>\n",
              "      <td>2017-01-09</td>\n",
              "      <td>77.839996</td>\n",
              "      <td>76.669998</td>\n",
              "      <td>77.010002</td>\n",
              "      <td>77.519997</td>\n",
              "      <td>2248859.0</td>\n",
              "      <td>63.862297</td>\n",
              "    </tr>\n",
              "  </tbody>\n",
              "</table>\n",
              "</div>"
            ],
            "text/plain": [
              "        Date       High        Low       Open      Close     Volume  Adj Close\n",
              "0 2017-01-03  78.919998  77.900002  78.250000  78.300003  2325991.0  64.504875\n",
              "1 2017-01-04  78.599998  77.930000  78.290001  78.300003  2371916.0  64.504875\n",
              "2 2017-01-05  78.660004  77.370003  77.540001  78.269997  2402135.0  64.480156\n",
              "3 2017-01-06  77.110001  75.529999  77.000000  76.690002  3922003.0  63.178539\n",
              "4 2017-01-09  77.839996  76.669998  77.010002  77.519997  2248859.0  63.862297"
            ]
          },
          "metadata": {
            "tags": []
          },
          "execution_count": 388
        }
      ]
    },
    {
      "cell_type": "code",
      "metadata": {
        "id": "ctuQx7LNKaNN"
      },
      "source": [
        "Sanofi_test  = Sanofi_test.rename_axis('Date').reset_index()"
      ],
      "execution_count": null,
      "outputs": []
    },
    {
      "cell_type": "code",
      "metadata": {
        "colab": {
          "base_uri": "https://localhost:8080/",
          "height": 191
        },
        "id": "2zq9vFaXKzrt",
        "outputId": "1415c3fc-0593-49e7-fb71-b41aa1821538"
      },
      "source": [
        "Sanofi_test.head()"
      ],
      "execution_count": null,
      "outputs": [
        {
          "output_type": "execute_result",
          "data": {
            "text/html": [
              "<div>\n",
              "<style scoped>\n",
              "    .dataframe tbody tr th:only-of-type {\n",
              "        vertical-align: middle;\n",
              "    }\n",
              "\n",
              "    .dataframe tbody tr th {\n",
              "        vertical-align: top;\n",
              "    }\n",
              "\n",
              "    .dataframe thead th {\n",
              "        text-align: right;\n",
              "    }\n",
              "</style>\n",
              "<table border=\"1\" class=\"dataframe\">\n",
              "  <thead>\n",
              "    <tr style=\"text-align: right;\">\n",
              "      <th></th>\n",
              "      <th>Date</th>\n",
              "      <th>High</th>\n",
              "      <th>Low</th>\n",
              "      <th>Open</th>\n",
              "      <th>Close</th>\n",
              "      <th>Volume</th>\n",
              "      <th>Adj Close</th>\n",
              "    </tr>\n",
              "  </thead>\n",
              "  <tbody>\n",
              "    <tr>\n",
              "      <th>0</th>\n",
              "      <td>2021-02-01</td>\n",
              "      <td>78.830002</td>\n",
              "      <td>77.500000</td>\n",
              "      <td>77.879997</td>\n",
              "      <td>78.209999</td>\n",
              "      <td>1948193</td>\n",
              "      <td>75.328339</td>\n",
              "    </tr>\n",
              "    <tr>\n",
              "      <th>1</th>\n",
              "      <td>2021-02-02</td>\n",
              "      <td>79.430000</td>\n",
              "      <td>78.110001</td>\n",
              "      <td>78.269997</td>\n",
              "      <td>78.599998</td>\n",
              "      <td>2417655</td>\n",
              "      <td>75.703972</td>\n",
              "    </tr>\n",
              "    <tr>\n",
              "      <th>2</th>\n",
              "      <td>2021-02-03</td>\n",
              "      <td>79.510002</td>\n",
              "      <td>77.540001</td>\n",
              "      <td>78.779999</td>\n",
              "      <td>77.730003</td>\n",
              "      <td>2096196</td>\n",
              "      <td>74.866028</td>\n",
              "    </tr>\n",
              "    <tr>\n",
              "      <th>3</th>\n",
              "      <td>2021-02-04</td>\n",
              "      <td>79.190002</td>\n",
              "      <td>77.190002</td>\n",
              "      <td>77.199997</td>\n",
              "      <td>78.830002</td>\n",
              "      <td>2182240</td>\n",
              "      <td>75.925499</td>\n",
              "    </tr>\n",
              "    <tr>\n",
              "      <th>4</th>\n",
              "      <td>2021-02-05</td>\n",
              "      <td>81.370003</td>\n",
              "      <td>79.980003</td>\n",
              "      <td>81.180000</td>\n",
              "      <td>80.010002</td>\n",
              "      <td>3028985</td>\n",
              "      <td>77.062019</td>\n",
              "    </tr>\n",
              "  </tbody>\n",
              "</table>\n",
              "</div>"
            ],
            "text/plain": [
              "        Date       High        Low       Open      Close   Volume  Adj Close\n",
              "0 2021-02-01  78.830002  77.500000  77.879997  78.209999  1948193  75.328339\n",
              "1 2021-02-02  79.430000  78.110001  78.269997  78.599998  2417655  75.703972\n",
              "2 2021-02-03  79.510002  77.540001  78.779999  77.730003  2096196  74.866028\n",
              "3 2021-02-04  79.190002  77.190002  77.199997  78.830002  2182240  75.925499\n",
              "4 2021-02-05  81.370003  79.980003  81.180000  80.010002  3028985  77.062019"
            ]
          },
          "metadata": {
            "tags": []
          },
          "execution_count": 390
        }
      ]
    },
    {
      "cell_type": "code",
      "metadata": {
        "id": "g63oQXYVLCFt"
      },
      "source": [
        "dataset_train = Sanofi_train\n",
        "dataset_test = Sanofi_test"
      ],
      "execution_count": null,
      "outputs": []
    },
    {
      "cell_type": "code",
      "metadata": {
        "id": "vQc435KQK7Bg"
      },
      "source": [
        "# conversion de la feature Close en values pour keras \n",
        "train = dataset_train.iloc[:, 4:5]\n",
        "training_set = dataset_train.iloc[:, 4:5].values"
      ],
      "execution_count": null,
      "outputs": []
    },
    {
      "cell_type": "code",
      "metadata": {
        "colab": {
          "base_uri": "https://localhost:8080/",
          "height": 191
        },
        "id": "lSzl63j3Lmuy",
        "outputId": "94868cf5-2201-4c67-c885-de404f81adb2"
      },
      "source": [
        "train.head()"
      ],
      "execution_count": null,
      "outputs": [
        {
          "output_type": "execute_result",
          "data": {
            "text/html": [
              "<div>\n",
              "<style scoped>\n",
              "    .dataframe tbody tr th:only-of-type {\n",
              "        vertical-align: middle;\n",
              "    }\n",
              "\n",
              "    .dataframe tbody tr th {\n",
              "        vertical-align: top;\n",
              "    }\n",
              "\n",
              "    .dataframe thead th {\n",
              "        text-align: right;\n",
              "    }\n",
              "</style>\n",
              "<table border=\"1\" class=\"dataframe\">\n",
              "  <thead>\n",
              "    <tr style=\"text-align: right;\">\n",
              "      <th></th>\n",
              "      <th>Close</th>\n",
              "    </tr>\n",
              "  </thead>\n",
              "  <tbody>\n",
              "    <tr>\n",
              "      <th>0</th>\n",
              "      <td>78.300003</td>\n",
              "    </tr>\n",
              "    <tr>\n",
              "      <th>1</th>\n",
              "      <td>78.300003</td>\n",
              "    </tr>\n",
              "    <tr>\n",
              "      <th>2</th>\n",
              "      <td>78.269997</td>\n",
              "    </tr>\n",
              "    <tr>\n",
              "      <th>3</th>\n",
              "      <td>76.690002</td>\n",
              "    </tr>\n",
              "    <tr>\n",
              "      <th>4</th>\n",
              "      <td>77.519997</td>\n",
              "    </tr>\n",
              "  </tbody>\n",
              "</table>\n",
              "</div>"
            ],
            "text/plain": [
              "       Close\n",
              "0  78.300003\n",
              "1  78.300003\n",
              "2  78.269997\n",
              "3  76.690002\n",
              "4  77.519997"
            ]
          },
          "metadata": {
            "tags": []
          },
          "execution_count": 393
        }
      ]
    },
    {
      "cell_type": "code",
      "metadata": {
        "id": "fwybymuyLiAU"
      },
      "source": [
        "# conversion de la feature Close en values pour keras \n",
        "test = dataset_test.iloc[:, 4:5]\n",
        "testing_set = dataset_test.iloc[:, 4:5].values"
      ],
      "execution_count": null,
      "outputs": []
    },
    {
      "cell_type": "code",
      "metadata": {
        "colab": {
          "base_uri": "https://localhost:8080/"
        },
        "id": "MwiaEdgbLudc",
        "outputId": "054e34d5-b193-49d2-e3d9-b81f489af120"
      },
      "source": [
        "training_set.shape"
      ],
      "execution_count": null,
      "outputs": [
        {
          "output_type": "execute_result",
          "data": {
            "text/plain": [
              "(1042, 1)"
            ]
          },
          "metadata": {
            "tags": []
          },
          "execution_count": 395
        }
      ]
    },
    {
      "cell_type": "code",
      "metadata": {
        "colab": {
          "base_uri": "https://localhost:8080/"
        },
        "id": "4PRNFKALr4Ha",
        "outputId": "fdd0bbf4-fa74-4cde-bd44-de5744505dd8"
      },
      "source": [
        "len(training_set)"
      ],
      "execution_count": null,
      "outputs": [
        {
          "output_type": "execute_result",
          "data": {
            "text/plain": [
              "1042"
            ]
          },
          "metadata": {
            "tags": []
          },
          "execution_count": 396
        }
      ]
    },
    {
      "cell_type": "code",
      "metadata": {
        "colab": {
          "base_uri": "https://localhost:8080/"
        },
        "id": "lvdZv1_YLv_G",
        "outputId": "9d235f42-c2be-4bed-868e-5e3f55f8d729"
      },
      "source": [
        "training_set"
      ],
      "execution_count": null,
      "outputs": [
        {
          "output_type": "execute_result",
          "data": {
            "text/plain": [
              "array([[78.30000305],\n",
              "       [78.30000305],\n",
              "       [78.26999664],\n",
              "       ...,\n",
              "       [79.06999969],\n",
              "       [79.08999634],\n",
              "       [77.15000153]])"
            ]
          },
          "metadata": {
            "tags": []
          },
          "execution_count": 397
        }
      ]
    },
    {
      "cell_type": "code",
      "metadata": {
        "colab": {
          "base_uri": "https://localhost:8080/"
        },
        "id": "iu45-43PLy0x",
        "outputId": "05643eae-c985-46fe-c41c-0dec89f7441c"
      },
      "source": [
        "len(testing_set)"
      ],
      "execution_count": null,
      "outputs": [
        {
          "output_type": "execute_result",
          "data": {
            "text/plain": [
              "20"
            ]
          },
          "metadata": {
            "tags": []
          },
          "execution_count": 398
        }
      ]
    },
    {
      "cell_type": "code",
      "metadata": {
        "id": "8Q2E6onJL67c"
      },
      "source": [
        "# Mise à l'échelle des data dans l'interval 0,1\n",
        "sc = MinMaxScaler(feature_range = (0, 1))\n",
        "training_set_scaled = sc.fit_transform(training_set)"
      ],
      "execution_count": null,
      "outputs": []
    },
    {
      "cell_type": "code",
      "metadata": {
        "colab": {
          "base_uri": "https://localhost:8080/"
        },
        "id": "nRBWDtJAc8dH",
        "outputId": "018e889b-e181-431f-d75e-ea8d397877c8"
      },
      "source": [
        "type(training_set_scaled)"
      ],
      "execution_count": null,
      "outputs": [
        {
          "output_type": "execute_result",
          "data": {
            "text/plain": [
              "numpy.ndarray"
            ]
          },
          "metadata": {
            "tags": []
          },
          "execution_count": 400
        }
      ]
    },
    {
      "cell_type": "code",
      "metadata": {
        "id": "O3tHK3JuMC0D"
      },
      "source": [
        "# Creation du train set pour une prévision de la valeur de l'action au jour j \n",
        "# basée sur les 60 jours précédents (3 mois) \n",
        "X_train = []\n",
        "y_train = []\n",
        "# Dans X_train, les 60 jours précédents le jour i\n",
        "# Dans y_train, le jour i\n",
        "# training_set_scaled étant une array, il faut ajouter le numéro de colonne, soit 0 \n",
        "for i in range(60, len(training_set)):\n",
        "    X_train.append(training_set_scaled[i-60:i, 0])\n",
        "    y_train.append(training_set_scaled[i, 0])\n",
        "# transformation des listes X_train et y_train en array avec numpy    \n",
        "X_train, y_train = np.array(X_train), np.array(y_train)"
      ],
      "execution_count": null,
      "outputs": []
    },
    {
      "cell_type": "code",
      "metadata": {
        "id": "5XTAhiqEMVkm"
      },
      "source": [
        "# Redimensionnement en 3 dimensions nécessaire pour la modèlisation\n",
        "# cf doc Keras dans RNN et output shape\n",
        "# batchsize : nbre de lignes du dataset soit X_train.shape[0)\n",
        "# timestep : nbre de colonnes du dataset, soit X_train.shape[1], ici = 60 \n",
        "# input_dim = nbre de variables explicatives, ici 1\n",
        "X_train = np.reshape(X_train, (X_train.shape[0], X_train.shape[1], 1))"
      ],
      "execution_count": null,
      "outputs": []
    },
    {
      "cell_type": "markdown",
      "metadata": {
        "id": "Fmjn2_HXQ-sA"
      },
      "source": [
        "# **Pour la dernière partie data set avec la variable Volume**"
      ]
    },
    {
      "cell_type": "code",
      "metadata": {
        "id": "I9Q0MmDDQbcu"
      },
      "source": [
        "# conversion de la feature Close en values pour keras \n",
        "train2 = dataset_train.iloc[:, 4:6]\n",
        "training_set2 = dataset_train.iloc[:, 4:6].values\n",
        "# conversion de la feature Close en values pour keras \n",
        "test2 = dataset_test.iloc[:, 4:6]\n",
        "testing_set2 = dataset_test.iloc[:, 4:6].values"
      ],
      "execution_count": null,
      "outputs": []
    },
    {
      "cell_type": "code",
      "metadata": {
        "colab": {
          "base_uri": "https://localhost:8080/",
          "height": 191
        },
        "id": "SPmgAIl3Qo-v",
        "outputId": "d03e3c8e-d162-49f9-c7e3-50417f6e1c9c"
      },
      "source": [
        "train2.head()"
      ],
      "execution_count": null,
      "outputs": [
        {
          "output_type": "execute_result",
          "data": {
            "text/html": [
              "<div>\n",
              "<style scoped>\n",
              "    .dataframe tbody tr th:only-of-type {\n",
              "        vertical-align: middle;\n",
              "    }\n",
              "\n",
              "    .dataframe tbody tr th {\n",
              "        vertical-align: top;\n",
              "    }\n",
              "\n",
              "    .dataframe thead th {\n",
              "        text-align: right;\n",
              "    }\n",
              "</style>\n",
              "<table border=\"1\" class=\"dataframe\">\n",
              "  <thead>\n",
              "    <tr style=\"text-align: right;\">\n",
              "      <th></th>\n",
              "      <th>Close</th>\n",
              "      <th>Volume</th>\n",
              "    </tr>\n",
              "  </thead>\n",
              "  <tbody>\n",
              "    <tr>\n",
              "      <th>0</th>\n",
              "      <td>78.300003</td>\n",
              "      <td>2325991.0</td>\n",
              "    </tr>\n",
              "    <tr>\n",
              "      <th>1</th>\n",
              "      <td>78.300003</td>\n",
              "      <td>2371916.0</td>\n",
              "    </tr>\n",
              "    <tr>\n",
              "      <th>2</th>\n",
              "      <td>78.269997</td>\n",
              "      <td>2402135.0</td>\n",
              "    </tr>\n",
              "    <tr>\n",
              "      <th>3</th>\n",
              "      <td>76.690002</td>\n",
              "      <td>3922003.0</td>\n",
              "    </tr>\n",
              "    <tr>\n",
              "      <th>4</th>\n",
              "      <td>77.519997</td>\n",
              "      <td>2248859.0</td>\n",
              "    </tr>\n",
              "  </tbody>\n",
              "</table>\n",
              "</div>"
            ],
            "text/plain": [
              "       Close     Volume\n",
              "0  78.300003  2325991.0\n",
              "1  78.300003  2371916.0\n",
              "2  78.269997  2402135.0\n",
              "3  76.690002  3922003.0\n",
              "4  77.519997  2248859.0"
            ]
          },
          "metadata": {
            "tags": []
          },
          "execution_count": 511
        }
      ]
    },
    {
      "cell_type": "code",
      "metadata": {
        "colab": {
          "base_uri": "https://localhost:8080/"
        },
        "id": "Qfs2XPoiRIsl",
        "outputId": "e4144980-da3a-41a6-8fa6-742a5c6c1c5b"
      },
      "source": [
        "np.shape(training_set_scaled2)"
      ],
      "execution_count": null,
      "outputs": [
        {
          "output_type": "execute_result",
          "data": {
            "text/plain": [
              "(1042, 2)"
            ]
          },
          "metadata": {
            "tags": []
          },
          "execution_count": 512
        }
      ]
    },
    {
      "cell_type": "code",
      "metadata": {
        "id": "g6HrQnf0Z11F"
      },
      "source": [
        "# Mise à l'échelle des data dans l'interval 0,1\n",
        "sc = MinMaxScaler(feature_range = (0, 1))\n",
        "training_set_scaled2 = sc.fit_transform(training_set2)"
      ],
      "execution_count": null,
      "outputs": []
    },
    {
      "cell_type": "code",
      "metadata": {
        "colab": {
          "base_uri": "https://localhost:8080/"
        },
        "id": "OmiD9FxTgJJ9",
        "outputId": "b7444530-4c52-4c61-9463-face1f5fd8b8"
      },
      "source": [
        "training_set_scaled2"
      ],
      "execution_count": null,
      "outputs": [
        {
          "output_type": "execute_result",
          "data": {
            "text/plain": [
              "array([[0.48552133, 0.25785691],\n",
              "       [0.48552133, 0.2629481 ],\n",
              "       [0.48455588, 0.26629815],\n",
              "       ...,\n",
              "       [0.510296  , 0.37167146],\n",
              "       [0.51093939, 0.3307532 ],\n",
              "       [0.44852   , 0.38653631]])"
            ]
          },
          "metadata": {
            "tags": []
          },
          "execution_count": 515
        }
      ]
    },
    {
      "cell_type": "code",
      "metadata": {
        "id": "fdPa-peYRbCS"
      },
      "source": [
        "# Creation du train set pour une prévision de la valeur de l'action au jour j \n",
        "# basée sur les 60 jours précédents (3 mois) \n",
        "X_train2 = []\n",
        "y_train2 = []\n",
        "# Dans X_train, les 60 jours précédents le jour i\n",
        "# Dans y_train, le jour i\n",
        "# training_set_scaled étant une array, il faut ajouter le numéro de colonne, soit 0 \n",
        "for i in range(60, len(training_set2)):\n",
        "    X_train2.append(training_set_scaled2[i-60:i, 0:2])\n",
        "    y_train2.append(training_set_scaled2[i, 0])\n",
        "# transformation des listes X_train et y_train en array avec numpy    \n",
        "X_train2, y_train2 = np.array(X_train2), np.array(y_train2)"
      ],
      "execution_count": null,
      "outputs": []
    },
    {
      "cell_type": "code",
      "metadata": {
        "id": "KIMqXlmzSUfi"
      },
      "source": [
        "# Redimensionnement en 3 dimensions nécessaire pour la modèlisation\n",
        "# cf doc Keras dans RNN et output shape\n",
        "# batchsize : nbre de lignes du dataset soit X_train.shape[0)\n",
        "# timestep : nbre de colonnes du dataset, soit X_train.shape[1], ici = 60 \n",
        "# input_dim = nbre de variables explicatives, ici 1\n",
        "X_train2 = np.reshape(X_train2, (X_train2.shape[0], X_train2.shape[1], 2))"
      ],
      "execution_count": null,
      "outputs": []
    },
    {
      "cell_type": "markdown",
      "metadata": {
        "id": "YWa262oPMowM"
      },
      "source": [
        "#**Partie 1: Modélisation RNN initiale**"
      ]
    },
    {
      "cell_type": "markdown",
      "metadata": {
        "id": "BQtKWQ6IMzrx"
      },
      "source": [
        "**Modèle de régression RNN basé sur un réseau de neurones RNN LSTM avec keras :**\n",
        "\n",
        "Couche d’entrée : 50 neurones, \n",
        "avec 20 % taux d’extinction des neurones\n",
        "\n",
        "Puis 3 couches cachées, chacune ayant 50 neurones avec 20 % taux d’extinction des neurones\n",
        "\n",
        "1 couche de sortie avec 1 seul neurone\n",
        "\n",
        "Choisir les valeurs des hyperparamètres suivantes :\n",
        "\n",
        "Optimizer : Adam\n",
        "\n",
        "Loss : mean_squared_error'\n",
        "\n",
        "Nombre d’époques : 50\n",
        "\n",
        "Batch_size : 32 \n"
      ]
    },
    {
      "cell_type": "code",
      "metadata": {
        "id": "oAeuHvxLNo4G"
      },
      "source": [
        "# Initialisation RNN avec Sequential()\n",
        "regressor = Sequential()"
      ],
      "execution_count": null,
      "outputs": []
    },
    {
      "cell_type": "code",
      "metadata": {
        "id": "Eu2Yc3mXNqDV"
      },
      "source": [
        "# première couche LSTM et régularisation Dropout\n",
        "# units = nbre de neurones de la couche\n",
        "# return_sequences=True car dans le réseau on empile plusieurs couches LSTM\n",
        "# dans input_shape, indication du train set avec le nbre de time steps (60) et le nbre de feature, ici 1 \n",
        "regressor.add(LSTM(units = 50, return_sequences = True, input_shape = (X_train.shape[1], 1)))\n",
        "regressor.add(Dropout(0.2))"
      ],
      "execution_count": null,
      "outputs": []
    },
    {
      "cell_type": "code",
      "metadata": {
        "id": "mmOd3k_9N3NU"
      },
      "source": [
        "# deuxième couche LSTM layer et régularisation Dropout identique couche précédente\n",
        "# entrées de cette couche = sortie de la couche précédente : input_shape inutile \n",
        "regressor.add(LSTM(units = 50, return_sequences = True))\n",
        "regressor.add(Dropout(0.2))\n",
        "# troisième couche LSTM layer et régularisation Dropout \n",
        "regressor.add(LSTM(units = 50, return_sequences = True))\n",
        "regressor.add(Dropout(0.2))\n",
        "# quatrième couche LSTM layer et régularisation Dropout \n",
        "# dernière couche LSTM : return_sequence = False (valeur par défaut)\n",
        "regressor.add(LSTM(units = 50))\n",
        "regressor.add(Dropout(0.2))"
      ],
      "execution_count": null,
      "outputs": []
    },
    {
      "cell_type": "code",
      "metadata": {
        "id": "Kc8SBi6lOeCK"
      },
      "source": [
        "# couche de sortie 1 seul neurone\n",
        "regressor.add(Dense(units = 1))"
      ],
      "execution_count": null,
      "outputs": []
    },
    {
      "cell_type": "code",
      "metadata": {
        "id": "SpxX_UrxOgEp"
      },
      "source": [
        "# Compilation RNN\n",
        "# optimizer : cf doc Keras adam (ou RMSprop recommandé pour les RNN)\n",
        "regressor.compile(optimizer = 'adam', loss = 'mean_squared_error')"
      ],
      "execution_count": null,
      "outputs": []
    },
    {
      "cell_type": "code",
      "metadata": {
        "colab": {
          "base_uri": "https://localhost:8080/"
        },
        "id": "EU1iD5LQOmtf",
        "outputId": "e1bcbfff-9c55-441e-ed4e-2eeff835c64f"
      },
      "source": [
        "regressor.summary()"
      ],
      "execution_count": null,
      "outputs": [
        {
          "output_type": "stream",
          "text": [
            "Model: \"sequential_4\"\n",
            "_________________________________________________________________\n",
            "Layer (type)                 Output Shape              Param #   \n",
            "=================================================================\n",
            "lstm_12 (LSTM)               (None, 60, 50)            10400     \n",
            "_________________________________________________________________\n",
            "dropout_11 (Dropout)         (None, 60, 50)            0         \n",
            "_________________________________________________________________\n",
            "lstm_13 (LSTM)               (None, 60, 50)            20200     \n",
            "_________________________________________________________________\n",
            "dropout_12 (Dropout)         (None, 60, 50)            0         \n",
            "_________________________________________________________________\n",
            "lstm_14 (LSTM)               (None, 60, 50)            20200     \n",
            "_________________________________________________________________\n",
            "dropout_13 (Dropout)         (None, 60, 50)            0         \n",
            "_________________________________________________________________\n",
            "lstm_15 (LSTM)               (None, 50)                20200     \n",
            "_________________________________________________________________\n",
            "dropout_14 (Dropout)         (None, 50)                0         \n",
            "_________________________________________________________________\n",
            "dense_1 (Dense)              (None, 1)                 51        \n",
            "=================================================================\n",
            "Total params: 71,051\n",
            "Trainable params: 71,051\n",
            "Non-trainable params: 0\n",
            "_________________________________________________________________\n"
          ],
          "name": "stdout"
        }
      ]
    },
    {
      "cell_type": "code",
      "metadata": {
        "colab": {
          "base_uri": "https://localhost:8080/"
        },
        "id": "amWfdpkdOs0q",
        "outputId": "bec5e517-e7c9-49a7-ca7a-dc49ee2aedf1"
      },
      "source": [
        "# Fit le RNN sur train set\n",
        "# choisir les valeurs des hyperparamètres\n",
        "regressor.fit(X_train, y_train, epochs = 50, batch_size = 32)"
      ],
      "execution_count": null,
      "outputs": [
        {
          "output_type": "stream",
          "text": [
            "Epoch 1/50\n",
            "31/31 [==============================] - 10s 111ms/step - loss: 0.1299\n",
            "Epoch 2/50\n",
            "31/31 [==============================] - 4s 114ms/step - loss: 0.0170\n",
            "Epoch 3/50\n",
            "31/31 [==============================] - 4s 114ms/step - loss: 0.0142\n",
            "Epoch 4/50\n",
            "31/31 [==============================] - 4s 114ms/step - loss: 0.0120\n",
            "Epoch 5/50\n",
            "31/31 [==============================] - 4s 113ms/step - loss: 0.0114\n",
            "Epoch 6/50\n",
            "31/31 [==============================] - 3s 113ms/step - loss: 0.0103\n",
            "Epoch 7/50\n",
            "31/31 [==============================] - 3s 113ms/step - loss: 0.0105\n",
            "Epoch 8/50\n",
            "31/31 [==============================] - 4s 113ms/step - loss: 0.0112\n",
            "Epoch 9/50\n",
            "31/31 [==============================] - 4s 114ms/step - loss: 0.0096\n",
            "Epoch 10/50\n",
            "31/31 [==============================] - 4s 113ms/step - loss: 0.0091\n",
            "Epoch 11/50\n",
            "31/31 [==============================] - 4s 114ms/step - loss: 0.0075\n",
            "Epoch 12/50\n",
            "31/31 [==============================] - 4s 116ms/step - loss: 0.0103\n",
            "Epoch 13/50\n",
            "31/31 [==============================] - 4s 118ms/step - loss: 0.0082\n",
            "Epoch 14/50\n",
            "31/31 [==============================] - 4s 116ms/step - loss: 0.0071\n",
            "Epoch 15/50\n",
            "31/31 [==============================] - 4s 117ms/step - loss: 0.0084\n",
            "Epoch 16/50\n",
            "31/31 [==============================] - 4s 118ms/step - loss: 0.0072\n",
            "Epoch 17/50\n",
            "31/31 [==============================] - 4s 117ms/step - loss: 0.0068\n",
            "Epoch 18/50\n",
            "31/31 [==============================] - 4s 116ms/step - loss: 0.0076\n",
            "Epoch 19/50\n",
            "31/31 [==============================] - 4s 115ms/step - loss: 0.0078\n",
            "Epoch 20/50\n",
            "31/31 [==============================] - 4s 118ms/step - loss: 0.0068\n",
            "Epoch 21/50\n",
            "31/31 [==============================] - 4s 116ms/step - loss: 0.0070\n",
            "Epoch 22/50\n",
            "31/31 [==============================] - 4s 118ms/step - loss: 0.0073\n",
            "Epoch 23/50\n",
            "31/31 [==============================] - 4s 119ms/step - loss: 0.0066\n",
            "Epoch 24/50\n",
            "31/31 [==============================] - 4s 118ms/step - loss: 0.0068\n",
            "Epoch 25/50\n",
            "31/31 [==============================] - 4s 120ms/step - loss: 0.0088\n",
            "Epoch 26/50\n",
            "31/31 [==============================] - 4s 120ms/step - loss: 0.0062\n",
            "Epoch 27/50\n",
            "31/31 [==============================] - 4s 119ms/step - loss: 0.0061\n",
            "Epoch 28/50\n",
            "31/31 [==============================] - 4s 119ms/step - loss: 0.0064\n",
            "Epoch 29/50\n",
            "31/31 [==============================] - 4s 118ms/step - loss: 0.0067\n",
            "Epoch 30/50\n",
            "31/31 [==============================] - 4s 118ms/step - loss: 0.0068\n",
            "Epoch 31/50\n",
            "31/31 [==============================] - 4s 119ms/step - loss: 0.0057\n",
            "Epoch 32/50\n",
            "31/31 [==============================] - 4s 117ms/step - loss: 0.0055\n",
            "Epoch 33/50\n",
            "31/31 [==============================] - 4s 117ms/step - loss: 0.0057\n",
            "Epoch 34/50\n",
            "31/31 [==============================] - 4s 118ms/step - loss: 0.0057\n",
            "Epoch 35/50\n",
            "31/31 [==============================] - 4s 116ms/step - loss: 0.0052\n",
            "Epoch 36/50\n",
            "31/31 [==============================] - 4s 116ms/step - loss: 0.0056\n",
            "Epoch 37/50\n",
            "31/31 [==============================] - 4s 118ms/step - loss: 0.0060\n",
            "Epoch 38/50\n",
            "31/31 [==============================] - 4s 117ms/step - loss: 0.0052\n",
            "Epoch 39/50\n",
            "31/31 [==============================] - 4s 115ms/step - loss: 0.0053\n",
            "Epoch 40/50\n",
            "31/31 [==============================] - 4s 118ms/step - loss: 0.0054\n",
            "Epoch 41/50\n",
            "31/31 [==============================] - 4s 116ms/step - loss: 0.0059\n",
            "Epoch 42/50\n",
            "31/31 [==============================] - 4s 116ms/step - loss: 0.0047\n",
            "Epoch 43/50\n",
            "31/31 [==============================] - 4s 116ms/step - loss: 0.0043\n",
            "Epoch 44/50\n",
            "31/31 [==============================] - 4s 118ms/step - loss: 0.0051\n",
            "Epoch 45/50\n",
            "31/31 [==============================] - 4s 119ms/step - loss: 0.0048\n",
            "Epoch 46/50\n",
            "31/31 [==============================] - 4s 119ms/step - loss: 0.0043\n",
            "Epoch 47/50\n",
            "31/31 [==============================] - 4s 119ms/step - loss: 0.0049\n",
            "Epoch 48/50\n",
            "31/31 [==============================] - 4s 121ms/step - loss: 0.0044\n",
            "Epoch 49/50\n",
            "31/31 [==============================] - 4s 125ms/step - loss: 0.0044\n",
            "Epoch 50/50\n",
            "31/31 [==============================] - 4s 121ms/step - loss: 0.0044\n"
          ],
          "name": "stdout"
        },
        {
          "output_type": "execute_result",
          "data": {
            "text/plain": [
              "<tensorflow.python.keras.callbacks.History at 0x7fb07c323d10>"
            ]
          },
          "metadata": {
            "tags": []
          },
          "execution_count": 137
        }
      ]
    },
    {
      "cell_type": "markdown",
      "metadata": {
        "id": "Wb40usCHgKzX"
      },
      "source": [
        "**Prédictions**"
      ]
    },
    {
      "cell_type": "code",
      "metadata": {
        "id": "wCagjswEgObK"
      },
      "source": [
        "# récupération des valeurs réelles (valeur de cloture) des actions dans le test set (20 valeurs de février)\n",
        "real_stock_price = testing_set"
      ],
      "execution_count": null,
      "outputs": []
    },
    {
      "cell_type": "code",
      "metadata": {
        "id": "0PwYXgy5gcop"
      },
      "source": [
        "# prédictions du feature Close \n",
        "# concaténation des datasets train et test d'origine, au niveau des lignes avec axis = 0 (l'un au dessus de l'autre)\n",
        "dataset_total = pd.concat((dataset_train['Close'], dataset_test['Close']), axis = 0)\n",
        "# dans inputs on met les 60 jours précédents le jour à prédire et ceci pour tous les jours du mois à prédire :\n",
        "# transformation en array pour keras\n",
        "inputs = dataset_total[len(dataset_total) - len(dataset_test) - 60:].values\n",
        "# redimensionnement nécessaire du dataset \n",
        "inputs = inputs.reshape(-1,1)\n",
        "# utilisation du meme objet sc utilisée pour l'entrainement\n",
        "inputs = sc.transform(inputs)\n",
        "\n",
        "# alimentation du X_test avec les valeurs inputs correspondantes \n",
        "X_test = []\n",
        "# range de 60 à 80 puisque test set de 20 lignes\n",
        "for i in range(60, 80):\n",
        "    X_test.append(inputs[i-60:i, 0])\n",
        "# transformation en array    \n",
        "X_test = np.array(X_test)\n",
        "# redimensionnement en 3 dimensions avec reshape pour obtenir un X_test avec 20 lignes, 60 colonnes et 1 en troisième dimension\n",
        "X_test = np.reshape(X_test, (X_test.shape[0], X_test.shape[1], 1))\n",
        "# prévisions avec fonction predict sur le modèle regressor \n",
        "predicted_stock_price = regressor.predict(X_test)\n",
        "# prévisions sur l'échelle d'orignie avec transformation inverse\n",
        "predicted_stock_price = sc.inverse_transform(predicted_stock_price)"
      ],
      "execution_count": null,
      "outputs": []
    },
    {
      "cell_type": "code",
      "metadata": {
        "colab": {
          "base_uri": "https://localhost:8080/"
        },
        "id": "DzvIaOeCgwd0",
        "outputId": "31f18d97-e00e-40db-ccc4-824d1acc57c5"
      },
      "source": [
        "r2_score(real_stock_price, predicted_stock_price)"
      ],
      "execution_count": null,
      "outputs": [
        {
          "output_type": "execute_result",
          "data": {
            "text/plain": [
              "0.18357538800637374"
            ]
          },
          "metadata": {
            "tags": []
          },
          "execution_count": 36
        }
      ]
    },
    {
      "cell_type": "code",
      "metadata": {
        "id": "SVNI6vwvg7cr",
        "colab": {
          "base_uri": "https://localhost:8080/"
        },
        "outputId": "70976da0-bfd6-452a-9617-eaa57234ce59"
      },
      "source": [
        "mean_squared_error(real_stock_price, predicted_stock_price)"
      ],
      "execution_count": null,
      "outputs": [
        {
          "output_type": "execute_result",
          "data": {
            "text/plain": [
              "1.6550973515375518"
            ]
          },
          "metadata": {
            "tags": []
          },
          "execution_count": 37
        }
      ]
    },
    {
      "cell_type": "code",
      "metadata": {
        "id": "6QQcbh2FhEnp"
      },
      "source": [
        "rmse = np.sqrt(mean_squared_error(real_stock_price, predicted_stock_price))\n",
        "rmse"
      ],
      "execution_count": null,
      "outputs": []
    },
    {
      "cell_type": "code",
      "metadata": {
        "id": "JndQyq6ChHDB"
      },
      "source": [
        "# moyenne valeur action sur test set pour comparaison avec rmse\n",
        "dataset_test['Close'].mean()"
      ],
      "execution_count": null,
      "outputs": []
    },
    {
      "cell_type": "code",
      "metadata": {
        "id": "_UqZ5Ap5hHul",
        "colab": {
          "base_uri": "https://localhost:8080/",
          "height": 295
        },
        "outputId": "61969b00-9cde-4b20-d65e-d8b098642ac2"
      },
      "source": [
        "# Visu résultats vraies valeurs versus prévisions avec 50 époques\n",
        "plt.figure(figsize=(8,4))\n",
        "plt.plot(real_stock_price, color = 'red', label = 'Valeur réelle action')\n",
        "plt.plot(predicted_stock_price, color = 'blue', label = 'Valeur prédite action')\n",
        "plt.title('Prediction valeur action RNN')\n",
        "plt.xlabel('Time')\n",
        "plt.ylabel('Prix action')\n",
        "plt.legend()\n",
        "plt.show()"
      ],
      "execution_count": null,
      "outputs": [
        {
          "output_type": "display_data",
          "data": {
            "image/png": "[encoded data removed]",
            "text/plain": [
              "<Figure size 576x288 with 1 Axes>"
            ]
          },
          "metadata": {
            "tags": [],
            "needs_background": "light"
          }
        }
      ]
    },
    {
      "cell_type": "markdown",
      "metadata": {
        "id": "c6bcnE0tS00Z"
      },
      "source": [
        "# **En ajoutant la variable Volume**"
      ]
    },
    {
      "cell_type": "code",
      "metadata": {
        "id": "VetUBs9qS1Ha"
      },
      "source": [
        "# Initialisation RNN avec Sequential()\n",
        "regressor2 = Sequential()\n",
        "# première couche LSTM et régularisation Dropout\n",
        "# units = nbre de neurones de la couche\n",
        "# return_sequences=True car dans le réseau on empile plusieurs couches LSTM\n",
        "# dans input_shape, indication du train set avec le nbre de time steps (60) et le nbre de feature, ici 1 \n",
        "regressor2.add(LSTM(units = 50, return_sequences = True, input_shape = (X_train2.shape[1], 2)))\n",
        "regressor2.add(Dropout(0.2))\n",
        "# deuxième couche LSTM layer et régularisation Dropout identique couche précédente\n",
        "# entrées de cette couche = sortie de la couche précédente : input_shape inutile \n",
        "regressor2.add(LSTM(units = 50, return_sequences = True))\n",
        "regressor2.add(Dropout(0.2))\n",
        "# troisième couche LSTM layer et régularisation Dropout \n",
        "regressor2.add(LSTM(units = 50, return_sequences = True))\n",
        "regressor2.add(Dropout(0.2))\n",
        "# quatrième couche LSTM layer et régularisation Dropout \n",
        "# dernière couche LSTM : return_sequence = False (valeur par défaut)\n",
        "regressor2.add(LSTM(units = 50))\n",
        "regressor2.add(Dropout(0.2))\n",
        "# couche de sortie 1 seul neurone\n",
        "regressor2.add(Dense(units = 1))"
      ],
      "execution_count": null,
      "outputs": []
    },
    {
      "cell_type": "code",
      "metadata": {
        "colab": {
          "base_uri": "https://localhost:8080/"
        },
        "id": "uG2_EewpTXWB",
        "outputId": "06fdf5cf-e4fd-4b54-d5e7-06a85f5ae4fe"
      },
      "source": [
        "# Compilation RNN\n",
        "# optimizer : cf doc Keras adam (ou RMSprop recommandé pour les RNN)\n",
        "regressor2.compile(optimizer = 'adam', loss = 'mean_squared_error')\n",
        "regressor2.summary()"
      ],
      "execution_count": null,
      "outputs": [
        {
          "output_type": "stream",
          "text": [
            "Model: \"sequential_12\"\n",
            "_________________________________________________________________\n",
            "Layer (type)                 Output Shape              Param #   \n",
            "=================================================================\n",
            "lstm_46 (LSTM)               (None, 60, 50)            10600     \n",
            "_________________________________________________________________\n",
            "dropout_45 (Dropout)         (None, 60, 50)            0         \n",
            "_________________________________________________________________\n",
            "lstm_47 (LSTM)               (None, 60, 50)            20200     \n",
            "_________________________________________________________________\n",
            "dropout_46 (Dropout)         (None, 60, 50)            0         \n",
            "_________________________________________________________________\n",
            "lstm_48 (LSTM)               (None, 60, 50)            20200     \n",
            "_________________________________________________________________\n",
            "dropout_47 (Dropout)         (None, 60, 50)            0         \n",
            "_________________________________________________________________\n",
            "lstm_49 (LSTM)               (None, 50)                20200     \n",
            "_________________________________________________________________\n",
            "dropout_48 (Dropout)         (None, 50)                0         \n",
            "_________________________________________________________________\n",
            "dense_9 (Dense)              (None, 1)                 51        \n",
            "=================================================================\n",
            "Total params: 71,251\n",
            "Trainable params: 71,251\n",
            "Non-trainable params: 0\n",
            "_________________________________________________________________\n"
          ],
          "name": "stdout"
        }
      ]
    },
    {
      "cell_type": "code",
      "metadata": {
        "colab": {
          "base_uri": "https://localhost:8080/"
        },
        "id": "bIHVUXnQTjdb",
        "outputId": "77e389e6-1693-4326-b38a-6477b5eadabb"
      },
      "source": [
        "#Fit le RNN sur train set\n",
        "# choisir les valeurs des hyperparamètres\n",
        "regressor2.fit(X_train2, y_train2, epochs = 50, batch_size = 32)"
      ],
      "execution_count": null,
      "outputs": [
        {
          "output_type": "stream",
          "text": [
            "Epoch 1/50\n",
            "31/31 [==============================] - 9s 107ms/step - loss: 0.0993\n",
            "Epoch 2/50\n",
            "31/31 [==============================] - 3s 110ms/step - loss: 0.0152\n",
            "Epoch 3/50\n",
            "31/31 [==============================] - 3s 109ms/step - loss: 0.0158\n",
            "Epoch 4/50\n",
            "31/31 [==============================] - 3s 109ms/step - loss: 0.0132\n",
            "Epoch 5/50\n",
            "31/31 [==============================] - 3s 109ms/step - loss: 0.0129\n",
            "Epoch 6/50\n",
            "31/31 [==============================] - 3s 109ms/step - loss: 0.0114\n",
            "Epoch 7/50\n",
            "31/31 [==============================] - 3s 107ms/step - loss: 0.0102\n",
            "Epoch 8/50\n",
            "31/31 [==============================] - 3s 109ms/step - loss: 0.0113\n",
            "Epoch 9/50\n",
            "31/31 [==============================] - 3s 109ms/step - loss: 0.0102\n",
            "Epoch 10/50\n",
            "31/31 [==============================] - 3s 110ms/step - loss: 0.0085\n",
            "Epoch 11/50\n",
            "31/31 [==============================] - 3s 108ms/step - loss: 0.0092\n",
            "Epoch 12/50\n",
            "31/31 [==============================] - 3s 108ms/step - loss: 0.0081\n",
            "Epoch 13/50\n",
            "31/31 [==============================] - 3s 107ms/step - loss: 0.0079\n",
            "Epoch 14/50\n",
            "31/31 [==============================] - 3s 109ms/step - loss: 0.0078\n",
            "Epoch 15/50\n",
            "31/31 [==============================] - 3s 109ms/step - loss: 0.0084\n",
            "Epoch 16/50\n",
            "31/31 [==============================] - 3s 109ms/step - loss: 0.0087\n",
            "Epoch 17/50\n",
            "31/31 [==============================] - 3s 110ms/step - loss: 0.0074\n",
            "Epoch 18/50\n",
            "31/31 [==============================] - 3s 111ms/step - loss: 0.0071\n",
            "Epoch 19/50\n",
            "31/31 [==============================] - 3s 112ms/step - loss: 0.0090\n",
            "Epoch 20/50\n",
            "31/31 [==============================] - 3s 112ms/step - loss: 0.0067\n",
            "Epoch 21/50\n",
            "31/31 [==============================] - 3s 110ms/step - loss: 0.0070\n",
            "Epoch 22/50\n",
            "31/31 [==============================] - 3s 113ms/step - loss: 0.0072\n",
            "Epoch 23/50\n",
            "31/31 [==============================] - 4s 114ms/step - loss: 0.0063\n",
            "Epoch 24/50\n",
            "31/31 [==============================] - 3s 112ms/step - loss: 0.0066\n",
            "Epoch 25/50\n",
            "31/31 [==============================] - 3s 113ms/step - loss: 0.0060\n",
            "Epoch 26/50\n",
            "31/31 [==============================] - 4s 113ms/step - loss: 0.0065\n",
            "Epoch 27/50\n",
            "31/31 [==============================] - 3s 113ms/step - loss: 0.0067\n",
            "Epoch 28/50\n",
            "31/31 [==============================] - 4s 113ms/step - loss: 0.0057\n",
            "Epoch 29/50\n",
            "31/31 [==============================] - 3s 111ms/step - loss: 0.0059\n",
            "Epoch 30/50\n",
            "31/31 [==============================] - 3s 112ms/step - loss: 0.0061\n",
            "Epoch 31/50\n",
            "31/31 [==============================] - 3s 112ms/step - loss: 0.0055\n",
            "Epoch 32/50\n",
            "31/31 [==============================] - 3s 113ms/step - loss: 0.0059\n",
            "Epoch 33/50\n",
            "31/31 [==============================] - 3s 111ms/step - loss: 0.0056\n",
            "Epoch 34/50\n",
            "31/31 [==============================] - 4s 113ms/step - loss: 0.0053\n",
            "Epoch 35/50\n",
            "31/31 [==============================] - 4s 113ms/step - loss: 0.0056\n",
            "Epoch 36/50\n",
            "31/31 [==============================] - 4s 113ms/step - loss: 0.0050\n",
            "Epoch 37/50\n",
            "31/31 [==============================] - 3s 112ms/step - loss: 0.0054\n",
            "Epoch 38/50\n",
            "31/31 [==============================] - 3s 111ms/step - loss: 0.0048\n",
            "Epoch 39/50\n",
            "31/31 [==============================] - 3s 111ms/step - loss: 0.0049\n",
            "Epoch 40/50\n",
            "31/31 [==============================] - 3s 112ms/step - loss: 0.0049\n",
            "Epoch 41/50\n",
            "31/31 [==============================] - 3s 112ms/step - loss: 0.0050\n",
            "Epoch 42/50\n",
            "31/31 [==============================] - 3s 111ms/step - loss: 0.0061\n",
            "Epoch 43/50\n",
            "31/31 [==============================] - 3s 112ms/step - loss: 0.0047\n",
            "Epoch 44/50\n",
            "31/31 [==============================] - 3s 113ms/step - loss: 0.0046\n",
            "Epoch 45/50\n",
            "31/31 [==============================] - 4s 114ms/step - loss: 0.0048\n",
            "Epoch 46/50\n",
            "31/31 [==============================] - 3s 112ms/step - loss: 0.0044\n",
            "Epoch 47/50\n",
            "31/31 [==============================] - 4s 113ms/step - loss: 0.0043\n",
            "Epoch 48/50\n",
            "31/31 [==============================] - 3s 112ms/step - loss: 0.0051\n",
            "Epoch 49/50\n",
            "31/31 [==============================] - 3s 113ms/step - loss: 0.0045\n",
            "Epoch 50/50\n",
            "31/31 [==============================] - 3s 112ms/step - loss: 0.0044\n"
          ],
          "name": "stdout"
        },
        {
          "output_type": "execute_result",
          "data": {
            "text/plain": [
              "<tensorflow.python.keras.callbacks.History at 0x7fb06807e350>"
            ]
          },
          "metadata": {
            "tags": []
          },
          "execution_count": 543
        }
      ]
    },
    {
      "cell_type": "code",
      "metadata": {
        "colab": {
          "base_uri": "https://localhost:8080/"
        },
        "id": "mvQ0h8OfTusE",
        "outputId": "9cc838e4-c479-4585-bf34-6af720066248"
      },
      "source": [
        "# récupération des valeurs réelles (valeur de cloture) des actions dans le test set (20 valeurs de février)\n",
        "real_stock_price2 = sc.transform(testing_set2)\n",
        "real_stock_price2=real_stock_price2[:,0]\n",
        "real_stock_price2"
      ],
      "execution_count": null,
      "outputs": [
        {
          "output_type": "execute_result",
          "data": {
            "text/plain": [
              "array([0.48262545, 0.4951737 , 0.46718158, 0.50257406, 0.54054061,\n",
              "       0.56499345, 0.55888036, 0.52284424, 0.46975539, 0.48101685,\n",
              "       0.49324327, 0.47715576, 0.50096521, 0.48359067, 0.44401552,\n",
              "       0.42117127, 0.43146727, 0.43178885, 0.40025746, 0.40508376])"
            ]
          },
          "metadata": {
            "tags": []
          },
          "execution_count": 544
        }
      ]
    },
    {
      "cell_type": "code",
      "metadata": {
        "colab": {
          "base_uri": "https://localhost:8080/",
          "height": 391
        },
        "id": "2z6bdZluUS-J",
        "outputId": "85fb8efa-7b40-4eec-97df-4d8a0e7d0786"
      },
      "source": [
        "# prédictions du feature Close \n",
        "# concaténation des datasets train et test d'origine, au niveau des lignes avec axis = 0 (l'un au dessus de l'autre)\n",
        "dataset_total2 = pd.concat((dataset_train[['Close','Volume']], dataset_test[['Close','Volume']]), axis = 0)\n",
        "dataset_total2"
      ],
      "execution_count": null,
      "outputs": [
        {
          "output_type": "execute_result",
          "data": {
            "text/html": [
              "<div>\n",
              "<style scoped>\n",
              "    .dataframe tbody tr th:only-of-type {\n",
              "        vertical-align: middle;\n",
              "    }\n",
              "\n",
              "    .dataframe tbody tr th {\n",
              "        vertical-align: top;\n",
              "    }\n",
              "\n",
              "    .dataframe thead th {\n",
              "        text-align: right;\n",
              "    }\n",
              "</style>\n",
              "<table border=\"1\" class=\"dataframe\">\n",
              "  <thead>\n",
              "    <tr style=\"text-align: right;\">\n",
              "      <th></th>\n",
              "      <th>Close</th>\n",
              "      <th>Volume</th>\n",
              "    </tr>\n",
              "  </thead>\n",
              "  <tbody>\n",
              "    <tr>\n",
              "      <th>0</th>\n",
              "      <td>78.300003</td>\n",
              "      <td>2325991.0</td>\n",
              "    </tr>\n",
              "    <tr>\n",
              "      <th>1</th>\n",
              "      <td>78.300003</td>\n",
              "      <td>2371916.0</td>\n",
              "    </tr>\n",
              "    <tr>\n",
              "      <th>2</th>\n",
              "      <td>78.269997</td>\n",
              "      <td>2402135.0</td>\n",
              "    </tr>\n",
              "    <tr>\n",
              "      <th>3</th>\n",
              "      <td>76.690002</td>\n",
              "      <td>3922003.0</td>\n",
              "    </tr>\n",
              "    <tr>\n",
              "      <th>4</th>\n",
              "      <td>77.519997</td>\n",
              "      <td>2248859.0</td>\n",
              "    </tr>\n",
              "    <tr>\n",
              "      <th>...</th>\n",
              "      <td>...</td>\n",
              "      <td>...</td>\n",
              "    </tr>\n",
              "    <tr>\n",
              "      <th>15</th>\n",
              "      <td>76.300003</td>\n",
              "      <td>1521805.0</td>\n",
              "    </tr>\n",
              "    <tr>\n",
              "      <th>16</th>\n",
              "      <td>76.620003</td>\n",
              "      <td>2023883.0</td>\n",
              "    </tr>\n",
              "    <tr>\n",
              "      <th>17</th>\n",
              "      <td>76.629997</td>\n",
              "      <td>2030968.0</td>\n",
              "    </tr>\n",
              "    <tr>\n",
              "      <th>18</th>\n",
              "      <td>75.650002</td>\n",
              "      <td>2373849.0</td>\n",
              "    </tr>\n",
              "    <tr>\n",
              "      <th>19</th>\n",
              "      <td>75.800003</td>\n",
              "      <td>2988768.0</td>\n",
              "    </tr>\n",
              "  </tbody>\n",
              "</table>\n",
              "<p>1062 rows × 2 columns</p>\n",
              "</div>"
            ],
            "text/plain": [
              "        Close     Volume\n",
              "0   78.300003  2325991.0\n",
              "1   78.300003  2371916.0\n",
              "2   78.269997  2402135.0\n",
              "3   76.690002  3922003.0\n",
              "4   77.519997  2248859.0\n",
              "..        ...        ...\n",
              "15  76.300003  1521805.0\n",
              "16  76.620003  2023883.0\n",
              "17  76.629997  2030968.0\n",
              "18  75.650002  2373849.0\n",
              "19  75.800003  2988768.0\n",
              "\n",
              "[1062 rows x 2 columns]"
            ]
          },
          "metadata": {
            "tags": []
          },
          "execution_count": 545
        }
      ]
    },
    {
      "cell_type": "code",
      "metadata": {
        "colab": {
          "base_uri": "https://localhost:8080/"
        },
        "id": "76iCCSBNmk1J",
        "outputId": "0ba8e0f1-fde8-49fe-c087-7422f04fda83"
      },
      "source": [
        "inputs = dataset_total2[len(dataset_total2) - len(dataset_test) - 60:].values\n",
        "# redimensionnement nécessaire du dataset \n",
        "inputs = inputs.reshape(-1,2)\n",
        "# utilisation du meme objet sc utilisée pour l'entrainement\n",
        "inputs = sc.transform(inputs)\n",
        "\n",
        "# alimentation du X_test avec les valeurs inputs correspondantes \n",
        "X_test2 = []\n",
        "# range de 60 à 80 puisque test set de 20 lignes\n",
        "for i in range(60, 80):\n",
        "    X_test2.append(inputs[i-60:i, 0:2])\n",
        "# transformation en array    \n",
        "X_test2 = np.array(X_test2)\n",
        "# redimensionnement en 3 dimensions avec reshape pour obtenir un X_test avec 20 lignes, 60 colonnes et 1 en troisième dimension\n",
        "X_test2 = np.reshape(X_test2, (X_test2.shape[0], X_test2.shape[1], 2))\n",
        "X_test2"
      ],
      "execution_count": null,
      "outputs": [
        {
          "output_type": "execute_result",
          "data": {
            "text/plain": [
              "array([[[0.72265115, 0.2870995 ],\n",
              "        [0.64703988, 0.30570108],\n",
              "        [0.6988417 , 0.47070342],\n",
              "        ...,\n",
              "        [0.510296  , 0.37167146],\n",
              "        [0.51093939, 0.3307532 ],\n",
              "        [0.44852   , 0.38653631]],\n",
              "\n",
              "       [[0.64703988, 0.30570108],\n",
              "        [0.6988417 , 0.47070342],\n",
              "        [0.69111976, 0.41732273],\n",
              "        ...,\n",
              "        [0.51093939, 0.3307532 ],\n",
              "        [0.44852   , 0.38653631],\n",
              "        [0.48262545, 0.21597462]],\n",
              "\n",
              "       [[0.6988417 , 0.47070342],\n",
              "        [0.69111976, 0.41732273],\n",
              "        [0.77413115, 0.24237412],\n",
              "        ...,\n",
              "        [0.44852   , 0.38653631],\n",
              "        [0.48262545, 0.21597462],\n",
              "        [0.4951737 , 0.26801868]],\n",
              "\n",
              "       ...,\n",
              "\n",
              "       [[0.69176315, 0.5100916 ],\n",
              "        [0.67213636, 0.23275689],\n",
              "        [0.67020594, 0.20807315],\n",
              "        ...,\n",
              "        [0.44401552, 0.2909779 ],\n",
              "        [0.42117127, 0.1687057 ],\n",
              "        [0.43146727, 0.22436553]],\n",
              "\n",
              "       [[0.67213636, 0.23275689],\n",
              "        [0.67020594, 0.20807315],\n",
              "        [0.63770909, 0.21568073],\n",
              "        ...,\n",
              "        [0.42117127, 0.1687057 ],\n",
              "        [0.43146727, 0.22436553],\n",
              "        [0.43178885, 0.22515097]],\n",
              "\n",
              "       [[0.67020594, 0.20807315],\n",
              "        [0.63770909, 0.21568073],\n",
              "        [0.65604885, 0.24534636],\n",
              "        ...,\n",
              "        [0.43146727, 0.22436553],\n",
              "        [0.43178885, 0.22515097],\n",
              "        [0.40025746, 0.26316239]]])"
            ]
          },
          "metadata": {
            "tags": []
          },
          "execution_count": 546
        }
      ]
    },
    {
      "cell_type": "code",
      "metadata": {
        "colab": {
          "base_uri": "https://localhost:8080/"
        },
        "id": "RlOoLR_On9D0",
        "outputId": "f089eb88-b8a6-4821-d83d-2c20069e0c9d"
      },
      "source": [
        "# prévisions avec fonction predict sur le modèle regressor \n",
        "predicted_stock_price2 = regressor2.predict(X_test2)\n",
        "predicted_stock_price2"
      ],
      "execution_count": null,
      "outputs": [
        {
          "output_type": "stream",
          "text": [
            "WARNING:tensorflow:5 out of the last 12 calls to <function Model.make_predict_function.<locals>.predict_function at 0x7fb0671cb560> triggered tf.function retracing. Tracing is expensive and the excessive number of tracings could be due to (1) creating @tf.function repeatedly in a loop, (2) passing tensors with different shapes, (3) passing Python objects instead of tensors. For (1), please define your @tf.function outside of the loop. For (2), @tf.function has experimental_relax_shapes=True option that relaxes argument shapes that can avoid unnecessary retracing. For (3), please refer to https://www.tensorflow.org/guide/function#controlling_retracing and https://www.tensorflow.org/api_docs/python/tf/function for  more details.\n"
          ],
          "name": "stdout"
        },
        {
          "output_type": "execute_result",
          "data": {
            "text/plain": [
              "array([[0.5233546 ],\n",
              "       [0.50561357],\n",
              "       [0.49666464],\n",
              "       [0.49098957],\n",
              "       [0.4903384 ],\n",
              "       [0.49741665],\n",
              "       [0.5140514 ],\n",
              "       [0.533039  ],\n",
              "       [0.542552  ],\n",
              "       [0.53474224],\n",
              "       [0.5212337 ],\n",
              "       [0.5102198 ],\n",
              "       [0.5010671 ],\n",
              "       [0.4960304 ],\n",
              "       [0.494125  ],\n",
              "       [0.4882965 ],\n",
              "       [0.4782832 ],\n",
              "       [0.46712074],\n",
              "       [0.45755947],\n",
              "       [0.44718426]], dtype=float32)"
            ]
          },
          "metadata": {
            "tags": []
          },
          "execution_count": 547
        }
      ]
    },
    {
      "cell_type": "code",
      "metadata": {
        "colab": {
          "base_uri": "https://localhost:8080/"
        },
        "id": "4_AWUX0Fz8Yo",
        "outputId": "737eceb9-66c9-4201-be89-9a422c850f5c"
      },
      "source": [
        "real_stock_price2"
      ],
      "execution_count": null,
      "outputs": [
        {
          "output_type": "execute_result",
          "data": {
            "text/plain": [
              "array([0.48262545, 0.4951737 , 0.46718158, 0.50257406, 0.54054061,\n",
              "       0.56499345, 0.55888036, 0.52284424, 0.46975539, 0.48101685,\n",
              "       0.49324327, 0.47715576, 0.50096521, 0.48359067, 0.44401552,\n",
              "       0.42117127, 0.43146727, 0.43178885, 0.40025746, 0.40508376])"
            ]
          },
          "metadata": {
            "tags": []
          },
          "execution_count": 548
        }
      ]
    },
    {
      "cell_type": "code",
      "metadata": {
        "colab": {
          "base_uri": "https://localhost:8080/"
        },
        "id": "p8PfATAiousL",
        "outputId": "66cdbb8a-6feb-49d2-932d-a78a03abf0b8"
      },
      "source": [
        "np.shape(predicted_stock_price2)"
      ],
      "execution_count": null,
      "outputs": [
        {
          "output_type": "execute_result",
          "data": {
            "text/plain": [
              "(20, 1)"
            ]
          },
          "metadata": {
            "tags": []
          },
          "execution_count": 549
        }
      ]
    },
    {
      "cell_type": "code",
      "metadata": {
        "colab": {
          "base_uri": "https://localhost:8080/"
        },
        "id": "j6L5FRWXfDIJ",
        "outputId": "52085073-c2fa-4657-9d4c-ccfcc1a19b9e"
      },
      "source": [
        "r2_score(real_stock_price2, predicted_stock_price2)"
      ],
      "execution_count": null,
      "outputs": [
        {
          "output_type": "execute_result",
          "data": {
            "text/plain": [
              "0.10177218543697353"
            ]
          },
          "metadata": {
            "tags": []
          },
          "execution_count": 550
        }
      ]
    },
    {
      "cell_type": "markdown",
      "metadata": {
        "id": "HO_l3zxIioy4"
      },
      "source": [
        "# **Partie 2: Modelisation RNN optimisée**"
      ]
    },
    {
      "cell_type": "code",
      "metadata": {
        "id": "xDyPlHDTi2FM"
      },
      "source": [
        "def build_regressor(optimizer='adam'):\n",
        "    regressor = Sequential()\n",
        "    regressor.add(LSTM(units = 50, return_sequences = True, input_shape = (X_train.shape[1], 1)))\n",
        "    regressor.add(LSTM(units = 50, return_sequences = True))\n",
        "    regressor.add(LSTM(units = 50, return_sequences = True))\n",
        "    regressor.add(LSTM(units = 50))\n",
        "    regressor.add(Dense(units = 1))\n",
        "    regressor.compile(optimizer = optimizer, loss = 'mean_squared_error', metrics = ['mse'])\n",
        "    return regressor"
      ],
      "execution_count": null,
      "outputs": []
    },
    {
      "cell_type": "code",
      "metadata": {
        "id": "yBaucyXTkYGH"
      },
      "source": [
        "# choix des hyperparamètres optimaux avec grid Search\n",
        "from sklearn.model_selection import GridSearchCV\n",
        "from keras.wrappers.scikit_learn import KerasRegressor\n",
        "from sklearn.model_selection import cross_val_score\n",
        "regress = KerasRegressor(build_fn = build_regressor)\n",
        "\n",
        "# hyperparametres à mettre dans un dictionnaire\n",
        "parameters = {'batch_size': [16, 32, 64],\n",
        "              'epochs': [10, 50, 100],\n",
        "              'optimizer': ['adam', 'rmsprop']}\n",
        "grid_search = GridSearchCV(estimator = regress,\n",
        "                           param_grid = parameters,\n",
        "                           scoring ='neg_mean_squared_error',\n",
        "                           cv = 5)\n",
        "# entrainement \n",
        "grid_search = grid_search.fit(X_train, y_train)\n",
        "# meilleurs résultats \n",
        "best_parameters = grid_search.best_params_\n",
        "best_accuracy = grid_search.best_score_"
      ],
      "execution_count": null,
      "outputs": []
    },
    {
      "cell_type": "markdown",
      "metadata": {
        "id": "jxGEv_wfkCHg"
      },
      "source": [
        "# **Notre modèle**"
      ]
    },
    {
      "cell_type": "code",
      "metadata": {
        "id": "YwYEoEvtAK9t"
      },
      "source": [
        "regressor = Sequential()\n",
        "#modèle\n",
        "# première couche LSTM et régularisation Dropout\n",
        "# units = nbre de neurones de la couche\n",
        "# return_sequences=True car dans le réseau on empile plusieurs couches LSTM\n",
        "# dans input_shape, indication du train set avec le nbre de time steps (60) et le nbre de feature, ici 1 \n",
        "regressor.add(LSTM(units = (100), return_sequences = True, input_shape = (X_train.shape[1], 1)))\n",
        "regressor.add(Dropout(0.1))\n",
        "# deuxième couche LSTM layer et régularisation Dropout identique couche précédente\n",
        "# entrées de cette couche = sortie de la couche précédente : input_shape inutile \n",
        "regressor.add(LSTM(units = 100, return_sequences = True))\n",
        "regressor.add(Dropout(0.1))\n",
        "# troisième couche LSTM layer et régularisation Dropout \n",
        "regressor.add(LSTM(units = 100, return_sequences = True))\n",
        "regressor.add(Dropout(0.1))\n",
        "# quatrième couche LSTM layer et régularisation Dropout \n",
        "regressor.add(LSTM(units = 100, return_sequences = True))\n",
        "regressor.add(Dropout(0.1))\n",
        "# 5ième couche LSTM layer et régularisation Dropout \n",
        "regressor.add(LSTM(units = 100))\n",
        "regressor.add(Dropout(0.1))\n",
        "\n",
        "# dernière couche LSTM : return_sequence = False (valeur par défaut)\n",
        "#regressor.add(LSTM(units = 100))\n",
        "#regressor.add(Dropout(0.1))\n",
        "# couche de sortie 1 seul neurone\n",
        "regressor.add(Dense(units = 1))"
      ],
      "execution_count": null,
      "outputs": []
    },
    {
      "cell_type": "code",
      "metadata": {
        "id": "L7MreHimg2b-"
      },
      "source": [
        "#on met les paramètres optimaux\n",
        "btch_size = 50\n",
        "epoc = 100\n",
        "regressor.compile(optimizer = 'adam', loss = 'mean_squared_error')"
      ],
      "execution_count": null,
      "outputs": []
    },
    {
      "cell_type": "code",
      "metadata": {
        "colab": {
          "base_uri": "https://localhost:8080/"
        },
        "id": "5x4l2MZVg6Tw",
        "outputId": "57b77ee8-3485-4a5a-9831-6f483fba8437"
      },
      "source": [
        "regressor.fit(X_train, y_train, epochs = epoc, batch_size = btch_size)\n",
        "predicted_stock_price2 = regressor.predict(X_test)\n",
        "predicted_stock_price2 = sc.inverse_transform(predicted_stock_price2)"
      ],
      "execution_count": null,
      "outputs": [
        {
          "output_type": "stream",
          "text": [
            "Epoch 1/100\n",
            "20/20 [==============================] - 13s 264ms/step - loss: 0.1434\n",
            "Epoch 2/100\n",
            "20/20 [==============================] - 5s 264ms/step - loss: 0.0265\n",
            "Epoch 3/100\n",
            "20/20 [==============================] - 5s 262ms/step - loss: 0.0164\n",
            "Epoch 4/100\n",
            "20/20 [==============================] - 5s 263ms/step - loss: 0.0128\n",
            "Epoch 5/100\n",
            "20/20 [==============================] - 5s 263ms/step - loss: 0.0119\n",
            "Epoch 6/100\n",
            "20/20 [==============================] - 5s 264ms/step - loss: 0.0124\n",
            "Epoch 7/100\n",
            "20/20 [==============================] - 5s 269ms/step - loss: 0.0112\n",
            "Epoch 8/100\n",
            "20/20 [==============================] - 5s 262ms/step - loss: 0.0101\n",
            "Epoch 9/100\n",
            "20/20 [==============================] - 5s 265ms/step - loss: 0.0096\n",
            "Epoch 10/100\n",
            "20/20 [==============================] - 5s 262ms/step - loss: 0.0096\n",
            "Epoch 11/100\n",
            "20/20 [==============================] - 5s 264ms/step - loss: 0.0093\n",
            "Epoch 12/100\n",
            "20/20 [==============================] - 5s 265ms/step - loss: 0.0071\n",
            "Epoch 13/100\n",
            "20/20 [==============================] - 5s 264ms/step - loss: 0.0075\n",
            "Epoch 14/100\n",
            "20/20 [==============================] - 5s 264ms/step - loss: 0.0070\n",
            "Epoch 15/100\n",
            "20/20 [==============================] - 5s 265ms/step - loss: 0.0082\n",
            "Epoch 16/100\n",
            "20/20 [==============================] - 5s 263ms/step - loss: 0.0065\n",
            "Epoch 17/100\n",
            "20/20 [==============================] - 5s 264ms/step - loss: 0.0070\n",
            "Epoch 18/100\n",
            "20/20 [==============================] - 5s 265ms/step - loss: 0.0065\n",
            "Epoch 19/100\n",
            "20/20 [==============================] - 5s 262ms/step - loss: 0.0075\n",
            "Epoch 20/100\n",
            "20/20 [==============================] - 5s 262ms/step - loss: 0.0068\n",
            "Epoch 21/100\n",
            "20/20 [==============================] - 5s 263ms/step - loss: 0.0073\n",
            "Epoch 22/100\n",
            "20/20 [==============================] - 5s 264ms/step - loss: 0.0059\n",
            "Epoch 23/100\n",
            "20/20 [==============================] - 5s 264ms/step - loss: 0.0070\n",
            "Epoch 24/100\n",
            "20/20 [==============================] - 5s 262ms/step - loss: 0.0061\n",
            "Epoch 25/100\n",
            "20/20 [==============================] - 5s 263ms/step - loss: 0.0055\n",
            "Epoch 26/100\n",
            "20/20 [==============================] - 5s 263ms/step - loss: 0.0054\n",
            "Epoch 27/100\n",
            "20/20 [==============================] - 5s 263ms/step - loss: 0.0064\n",
            "Epoch 28/100\n",
            "20/20 [==============================] - 5s 263ms/step - loss: 0.0072\n",
            "Epoch 29/100\n",
            "20/20 [==============================] - 5s 262ms/step - loss: 0.0072\n",
            "Epoch 30/100\n",
            "20/20 [==============================] - 5s 266ms/step - loss: 0.0058\n",
            "Epoch 31/100\n",
            "20/20 [==============================] - 5s 262ms/step - loss: 0.0051\n",
            "Epoch 32/100\n",
            "20/20 [==============================] - 5s 262ms/step - loss: 0.0050\n",
            "Epoch 33/100\n",
            "20/20 [==============================] - 5s 262ms/step - loss: 0.0061\n",
            "Epoch 34/100\n",
            "20/20 [==============================] - 5s 264ms/step - loss: 0.0061\n",
            "Epoch 35/100\n",
            "20/20 [==============================] - 5s 265ms/step - loss: 0.0053\n",
            "Epoch 36/100\n",
            "20/20 [==============================] - 5s 264ms/step - loss: 0.0050\n",
            "Epoch 37/100\n",
            "20/20 [==============================] - 5s 262ms/step - loss: 0.0051\n",
            "Epoch 38/100\n",
            "20/20 [==============================] - 5s 261ms/step - loss: 0.0049\n",
            "Epoch 39/100\n",
            "20/20 [==============================] - 5s 264ms/step - loss: 0.0046\n",
            "Epoch 40/100\n",
            "20/20 [==============================] - 5s 264ms/step - loss: 0.0049\n",
            "Epoch 41/100\n",
            "20/20 [==============================] - 5s 266ms/step - loss: 0.0049\n",
            "Epoch 42/100\n",
            "20/20 [==============================] - 5s 264ms/step - loss: 0.0043\n",
            "Epoch 43/100\n",
            "20/20 [==============================] - 5s 261ms/step - loss: 0.0043\n",
            "Epoch 44/100\n",
            "20/20 [==============================] - 5s 266ms/step - loss: 0.0038\n",
            "Epoch 45/100\n",
            "20/20 [==============================] - 5s 265ms/step - loss: 0.0046\n",
            "Epoch 46/100\n",
            "20/20 [==============================] - 5s 265ms/step - loss: 0.0042\n",
            "Epoch 47/100\n",
            "20/20 [==============================] - 5s 264ms/step - loss: 0.0045\n",
            "Epoch 48/100\n",
            "20/20 [==============================] - 5s 264ms/step - loss: 0.0045\n",
            "Epoch 49/100\n",
            "20/20 [==============================] - 5s 263ms/step - loss: 0.0039\n",
            "Epoch 50/100\n",
            "20/20 [==============================] - 5s 264ms/step - loss: 0.0038\n",
            "Epoch 51/100\n",
            "20/20 [==============================] - 5s 263ms/step - loss: 0.0036\n",
            "Epoch 52/100\n",
            "20/20 [==============================] - 5s 264ms/step - loss: 0.0039\n",
            "Epoch 53/100\n",
            "20/20 [==============================] - 5s 259ms/step - loss: 0.0037\n",
            "Epoch 54/100\n",
            "20/20 [==============================] - 5s 261ms/step - loss: 0.0032\n",
            "Epoch 55/100\n",
            "20/20 [==============================] - 5s 258ms/step - loss: 0.0039\n",
            "Epoch 56/100\n",
            "20/20 [==============================] - 5s 260ms/step - loss: 0.0033\n",
            "Epoch 57/100\n",
            "20/20 [==============================] - 5s 264ms/step - loss: 0.0031\n",
            "Epoch 58/100\n",
            "20/20 [==============================] - 5s 262ms/step - loss: 0.0033\n",
            "Epoch 59/100\n",
            "20/20 [==============================] - 5s 260ms/step - loss: 0.0026\n",
            "Epoch 60/100\n",
            "20/20 [==============================] - 5s 259ms/step - loss: 0.0036\n",
            "Epoch 61/100\n",
            "20/20 [==============================] - 5s 261ms/step - loss: 0.0033\n",
            "Epoch 62/100\n",
            "20/20 [==============================] - 5s 260ms/step - loss: 0.0035\n",
            "Epoch 63/100\n",
            "20/20 [==============================] - 5s 259ms/step - loss: 0.0028\n",
            "Epoch 64/100\n",
            "20/20 [==============================] - 5s 261ms/step - loss: 0.0030\n",
            "Epoch 65/100\n",
            "20/20 [==============================] - 5s 259ms/step - loss: 0.0027\n",
            "Epoch 66/100\n",
            "20/20 [==============================] - 5s 262ms/step - loss: 0.0032\n",
            "Epoch 67/100\n",
            "20/20 [==============================] - 5s 262ms/step - loss: 0.0027\n",
            "Epoch 68/100\n",
            "20/20 [==============================] - 5s 260ms/step - loss: 0.0028\n",
            "Epoch 69/100\n",
            "20/20 [==============================] - 5s 259ms/step - loss: 0.0029\n",
            "Epoch 70/100\n",
            "20/20 [==============================] - 5s 260ms/step - loss: 0.0029\n",
            "Epoch 71/100\n",
            "20/20 [==============================] - 5s 261ms/step - loss: 0.0033\n",
            "Epoch 72/100\n",
            "20/20 [==============================] - 5s 260ms/step - loss: 0.0024\n",
            "Epoch 73/100\n",
            "20/20 [==============================] - 5s 259ms/step - loss: 0.0030\n",
            "Epoch 74/100\n",
            "20/20 [==============================] - 5s 260ms/step - loss: 0.0027\n",
            "Epoch 75/100\n",
            "20/20 [==============================] - 5s 263ms/step - loss: 0.0031\n",
            "Epoch 76/100\n",
            "20/20 [==============================] - 5s 262ms/step - loss: 0.0029\n",
            "Epoch 77/100\n",
            "20/20 [==============================] - 5s 260ms/step - loss: 0.0022\n",
            "Epoch 78/100\n",
            "20/20 [==============================] - 5s 260ms/step - loss: 0.0027\n",
            "Epoch 79/100\n",
            "20/20 [==============================] - 5s 261ms/step - loss: 0.0028\n",
            "Epoch 80/100\n",
            "20/20 [==============================] - 5s 263ms/step - loss: 0.0025\n",
            "Epoch 81/100\n",
            "20/20 [==============================] - 5s 262ms/step - loss: 0.0030\n",
            "Epoch 82/100\n",
            "20/20 [==============================] - 5s 261ms/step - loss: 0.0024\n",
            "Epoch 83/100\n",
            "20/20 [==============================] - 5s 261ms/step - loss: 0.0023\n",
            "Epoch 84/100\n",
            "20/20 [==============================] - 5s 261ms/step - loss: 0.0025\n",
            "Epoch 85/100\n",
            "20/20 [==============================] - 5s 263ms/step - loss: 0.0028\n",
            "Epoch 86/100\n",
            "20/20 [==============================] - 5s 260ms/step - loss: 0.0023\n",
            "Epoch 87/100\n",
            "20/20 [==============================] - 5s 262ms/step - loss: 0.0026\n",
            "Epoch 88/100\n",
            "20/20 [==============================] - 5s 259ms/step - loss: 0.0023\n",
            "Epoch 89/100\n",
            "20/20 [==============================] - 5s 262ms/step - loss: 0.0027\n",
            "Epoch 90/100\n",
            "20/20 [==============================] - 5s 263ms/step - loss: 0.0023\n",
            "Epoch 91/100\n",
            "20/20 [==============================] - 5s 262ms/step - loss: 0.0021\n",
            "Epoch 92/100\n",
            "20/20 [==============================] - 5s 259ms/step - loss: 0.0027\n",
            "Epoch 93/100\n",
            "20/20 [==============================] - 5s 264ms/step - loss: 0.0023\n",
            "Epoch 94/100\n",
            "20/20 [==============================] - 5s 263ms/step - loss: 0.0023\n",
            "Epoch 95/100\n",
            "20/20 [==============================] - 5s 262ms/step - loss: 0.0019\n",
            "Epoch 96/100\n",
            "20/20 [==============================] - 5s 261ms/step - loss: 0.0022\n",
            "Epoch 97/100\n",
            "20/20 [==============================] - 5s 261ms/step - loss: 0.0023\n",
            "Epoch 98/100\n",
            "20/20 [==============================] - 5s 263ms/step - loss: 0.0022\n",
            "Epoch 99/100\n",
            "20/20 [==============================] - 5s 262ms/step - loss: 0.0022\n",
            "Epoch 100/100\n",
            "20/20 [==============================] - 5s 261ms/step - loss: 0.0022\n"
          ],
          "name": "stdout"
        }
      ]
    },
    {
      "cell_type": "code",
      "metadata": {
        "colab": {
          "base_uri": "https://localhost:8080/"
        },
        "id": "uQ9XSNinFav6",
        "outputId": "8db9857b-dc2e-4bfd-ad08-61cf9d653ba2"
      },
      "source": [
        "r2_score(real_stock_price, predicted_stock_price2)"
      ],
      "execution_count": null,
      "outputs": [
        {
          "output_type": "execute_result",
          "data": {
            "text/plain": [
              "0.5454130999035285"
            ]
          },
          "metadata": {
            "tags": []
          },
          "execution_count": 57
        }
      ]
    },
    {
      "cell_type": "code",
      "metadata": {
        "colab": {
          "base_uri": "https://localhost:8080/"
        },
        "id": "MXJa0YL_AceW",
        "outputId": "a25525ae-e009-4b0a-f227-5b8217297cec"
      },
      "source": [
        "mean_squared_error(real_stock_price, predicted_stock_price2)"
      ],
      "execution_count": null,
      "outputs": [
        {
          "output_type": "execute_result",
          "data": {
            "text/plain": [
              "0.9215616032888647"
            ]
          },
          "metadata": {
            "tags": []
          },
          "execution_count": 58
        }
      ]
    },
    {
      "cell_type": "code",
      "metadata": {
        "colab": {
          "base_uri": "https://localhost:8080/"
        },
        "id": "X5ITnNfhAgKt",
        "outputId": "3b8da057-6633-4725-ae18-10f74199b084"
      },
      "source": [
        "rmse2 = np.sqrt(mean_squared_error(real_stock_price, predicted_stock_price2))\n",
        "rmse2 #pour comparaison la valeur moyenne action est de 78"
      ],
      "execution_count": null,
      "outputs": [
        {
          "output_type": "execute_result",
          "data": {
            "text/plain": [
              "0.9599800015046484"
            ]
          },
          "metadata": {
            "tags": []
          },
          "execution_count": 59
        }
      ]
    },
    {
      "cell_type": "code",
      "metadata": {
        "colab": {
          "base_uri": "https://localhost:8080/",
          "height": 295
        },
        "id": "jaOjtOhNgvJM",
        "outputId": "5d3ffb47-c152-4def-8450-c19e88697b3e"
      },
      "source": [
        "plt.figure(figsize=(8,4))\n",
        "plt.plot(real_stock_price, color = 'red', label = 'Valeur réelle action')\n",
        "plt.plot(predicted_stock_price2, color = 'blue', label = 'Valeur prédite action')\n",
        "plt.title('Prediction valeur action RNN')\n",
        "plt.xlabel('Time')\n",
        "plt.ylabel('Prix action')\n",
        "plt.legend()\n",
        "plt.show()"
      ],
      "execution_count": null,
      "outputs": [
        {
          "output_type": "display_data",
          "data": {
            "image/png": "[encoded data removed]",
            "text/plain": [
              "<Figure size 576x288 with 1 Axes>"
            ]
          },
          "metadata": {
            "tags": [],
            "needs_background": "light"
          }
        }
      ]
    },
    {
      "cell_type": "markdown",
      "metadata": {
        "id": "uExy-Lg632Zh"
      },
      "source": [
        "# **Nouveau modèle**"
      ]
    },
    {
      "cell_type": "code",
      "metadata": {
        "id": "QWpa6FDN1R7k"
      },
      "source": [
        "regressor = Sequential()\n",
        "#modèle\n",
        "# première couche LSTM et régularisation Dropout\n",
        "# units = nbre de neurones de la couche\n",
        "# return_sequences=True car dans le réseau on empile plusieurs couches LSTM\n",
        "# dans input_shape, indication du train set avec le nbre de time steps (60) et le nbre de feature, ici 1 \n",
        "\n",
        "regressor.add(LSTM(units = (100), return_sequences = True, input_shape = (X_train.shape[1], 1)))\n",
        "regressor.add(Dropout(0.1))\n",
        "# deuxième couche LSTM layer et régularisation Dropout identique couche précédente\n",
        "# entrées de cette couche = sortie de la couche précédente : input_shape inutile \n",
        "regressor.add(LSTM(units = 100, return_sequences = True))\n",
        "regressor.add(Dropout(0.1))\n",
        "# troisième couche LSTM layer et régularisation Dropout \n",
        "regressor.add(LSTM(units = 100, return_sequences = True))\n",
        "regressor.add(Dropout(0.1))\n",
        "# quatrième couche LSTM layer et régularisation Dropout \n",
        "regressor.add(LSTM(units = 100, return_sequences = True))\n",
        "regressor.add(Dropout(0.1))\n",
        "# 5ième couche LSTM layer et régularisation Dropout \n",
        "regressor.add(LSTM(units = 100, return_sequences = True))\n",
        "regressor.add(Dropout(0.1))\n",
        "\n",
        "# dernière couche LSTM : return_sequence = False (valeur par défaut)\n",
        "regressor.add(LSTM(units = 100))\n",
        "regressor.add(Dropout(0.1))\n",
        "# couche de sortie 1 seul neurone\n",
        "regressor.add(Dense(units = 1))"
      ],
      "execution_count": null,
      "outputs": []
    },
    {
      "cell_type": "code",
      "metadata": {
        "id": "HEGfvWlQ17D7"
      },
      "source": [
        "#on met les paramètres optimaux\n",
        "btch_size = 60\n",
        "epoc = 100\n",
        "regressor.compile(optimizer = 'adam', loss = 'mean_squared_error')"
      ],
      "execution_count": null,
      "outputs": []
    },
    {
      "cell_type": "code",
      "metadata": {
        "colab": {
          "base_uri": "https://localhost:8080/"
        },
        "id": "U2nhUvDb3l-N",
        "outputId": "433da3d3-5e4b-43ce-8a0b-cd81c755791a"
      },
      "source": [
        "regressor.fit(X_train, y_train, epochs = epoc, batch_size = btch_size)"
      ],
      "execution_count": null,
      "outputs": [
        {
          "output_type": "stream",
          "text": [
            "Epoch 1/100\n",
            "17/17 [==============================] - 17s 428ms/step - loss: 0.1719\n",
            "Epoch 2/100\n",
            "17/17 [==============================] - 7s 428ms/step - loss: 0.0316\n",
            "Epoch 3/100\n",
            "17/17 [==============================] - 8s 442ms/step - loss: 0.0214\n",
            "Epoch 4/100\n",
            "17/17 [==============================] - 7s 434ms/step - loss: 0.0175\n",
            "Epoch 5/100\n",
            "17/17 [==============================] - 7s 428ms/step - loss: 0.0145\n",
            "Epoch 6/100\n",
            "17/17 [==============================] - 7s 429ms/step - loss: 0.0148\n",
            "Epoch 7/100\n",
            "17/17 [==============================] - 7s 429ms/step - loss: 0.0161\n",
            "Epoch 8/100\n",
            "17/17 [==============================] - 7s 430ms/step - loss: 0.0133\n",
            "Epoch 9/100\n",
            "17/17 [==============================] - 7s 433ms/step - loss: 0.0132\n",
            "Epoch 10/100\n",
            "17/17 [==============================] - 7s 430ms/step - loss: 0.0110\n",
            "Epoch 11/100\n",
            "17/17 [==============================] - 7s 432ms/step - loss: 0.0118\n",
            "Epoch 12/100\n",
            "17/17 [==============================] - 7s 431ms/step - loss: 0.0101\n",
            "Epoch 13/100\n",
            "17/17 [==============================] - 7s 434ms/step - loss: 0.0099\n",
            "Epoch 14/100\n",
            "17/17 [==============================] - 7s 432ms/step - loss: 0.0088\n",
            "Epoch 15/100\n",
            "17/17 [==============================] - 7s 432ms/step - loss: 0.0083\n",
            "Epoch 16/100\n",
            "17/17 [==============================] - 7s 440ms/step - loss: 0.0075\n",
            "Epoch 17/100\n",
            "17/17 [==============================] - 7s 436ms/step - loss: 0.0082\n",
            "Epoch 18/100\n",
            "17/17 [==============================] - 7s 434ms/step - loss: 0.0091\n",
            "Epoch 19/100\n",
            "17/17 [==============================] - 7s 434ms/step - loss: 0.0082\n",
            "Epoch 20/100\n",
            "17/17 [==============================] - 7s 431ms/step - loss: 0.0075\n",
            "Epoch 21/100\n",
            "17/17 [==============================] - 7s 436ms/step - loss: 0.0069\n",
            "Epoch 22/100\n",
            "17/17 [==============================] - 7s 432ms/step - loss: 0.0067\n",
            "Epoch 23/100\n",
            "17/17 [==============================] - 7s 436ms/step - loss: 0.0073\n",
            "Epoch 24/100\n",
            "17/17 [==============================] - 7s 433ms/step - loss: 0.0070\n",
            "Epoch 25/100\n",
            "17/17 [==============================] - 7s 436ms/step - loss: 0.0072\n",
            "Epoch 26/100\n",
            "17/17 [==============================] - 7s 431ms/step - loss: 0.0069\n",
            "Epoch 27/100\n",
            "17/17 [==============================] - 7s 435ms/step - loss: 0.0067\n",
            "Epoch 28/100\n",
            "17/17 [==============================] - 7s 433ms/step - loss: 0.0070\n",
            "Epoch 29/100\n",
            "17/17 [==============================] - 7s 433ms/step - loss: 0.0081\n",
            "Epoch 30/100\n",
            "17/17 [==============================] - 7s 430ms/step - loss: 0.0072\n",
            "Epoch 31/100\n",
            "17/17 [==============================] - 7s 434ms/step - loss: 0.0071\n",
            "Epoch 32/100\n",
            "17/17 [==============================] - 7s 435ms/step - loss: 0.0064\n",
            "Epoch 33/100\n",
            "17/17 [==============================] - 7s 437ms/step - loss: 0.0061\n",
            "Epoch 34/100\n",
            "17/17 [==============================] - 7s 428ms/step - loss: 0.0061\n",
            "Epoch 35/100\n",
            "17/17 [==============================] - 7s 433ms/step - loss: 0.0064\n",
            "Epoch 36/100\n",
            "17/17 [==============================] - 7s 431ms/step - loss: 0.0063\n",
            "Epoch 37/100\n",
            "17/17 [==============================] - 7s 434ms/step - loss: 0.0064\n",
            "Epoch 38/100\n",
            "17/17 [==============================] - 7s 427ms/step - loss: 0.0055\n",
            "Epoch 39/100\n",
            "17/17 [==============================] - 7s 431ms/step - loss: 0.0061\n",
            "Epoch 40/100\n",
            "17/17 [==============================] - 7s 431ms/step - loss: 0.0052\n",
            "Epoch 41/100\n",
            "17/17 [==============================] - 7s 424ms/step - loss: 0.0057\n",
            "Epoch 42/100\n",
            "17/17 [==============================] - 7s 433ms/step - loss: 0.0048\n",
            "Epoch 43/100\n",
            "17/17 [==============================] - 7s 431ms/step - loss: 0.0045\n",
            "Epoch 44/100\n",
            "17/17 [==============================] - 7s 432ms/step - loss: 0.0050\n",
            "Epoch 45/100\n",
            "17/17 [==============================] - 7s 437ms/step - loss: 0.0050\n",
            "Epoch 46/100\n",
            "17/17 [==============================] - 7s 436ms/step - loss: 0.0055\n",
            "Epoch 47/100\n",
            "17/17 [==============================] - 7s 427ms/step - loss: 0.0045\n",
            "Epoch 48/100\n",
            "17/17 [==============================] - 7s 430ms/step - loss: 0.0047\n",
            "Epoch 49/100\n",
            "17/17 [==============================] - 7s 431ms/step - loss: 0.0045\n",
            "Epoch 50/100\n",
            "17/17 [==============================] - 7s 430ms/step - loss: 0.0043\n",
            "Epoch 51/100\n",
            "17/17 [==============================] - 7s 428ms/step - loss: 0.0044\n",
            "Epoch 52/100\n",
            "17/17 [==============================] - 7s 430ms/step - loss: 0.0049\n",
            "Epoch 53/100\n",
            "17/17 [==============================] - 7s 430ms/step - loss: 0.0052\n",
            "Epoch 54/100\n",
            "17/17 [==============================] - 7s 428ms/step - loss: 0.0040\n",
            "Epoch 55/100\n",
            "17/17 [==============================] - 7s 430ms/step - loss: 0.0035\n",
            "Epoch 56/100\n",
            "17/17 [==============================] - 7s 433ms/step - loss: 0.0038\n",
            "Epoch 57/100\n",
            "17/17 [==============================] - 7s 431ms/step - loss: 0.0036\n",
            "Epoch 58/100\n",
            "17/17 [==============================] - 7s 430ms/step - loss: 0.0036\n",
            "Epoch 59/100\n",
            "17/17 [==============================] - 7s 428ms/step - loss: 0.0039\n",
            "Epoch 60/100\n",
            "17/17 [==============================] - 7s 430ms/step - loss: 0.0035\n",
            "Epoch 61/100\n",
            "17/17 [==============================] - 7s 426ms/step - loss: 0.0034\n",
            "Epoch 62/100\n",
            "17/17 [==============================] - 7s 431ms/step - loss: 0.0042\n",
            "Epoch 63/100\n",
            "17/17 [==============================] - 7s 430ms/step - loss: 0.0045\n",
            "Epoch 64/100\n",
            "17/17 [==============================] - 7s 427ms/step - loss: 0.0044\n",
            "Epoch 65/100\n",
            "17/17 [==============================] - 7s 432ms/step - loss: 0.0034\n",
            "Epoch 66/100\n",
            "17/17 [==============================] - 7s 434ms/step - loss: 0.0034\n",
            "Epoch 67/100\n",
            "17/17 [==============================] - 7s 430ms/step - loss: 0.0034\n",
            "Epoch 68/100\n",
            "17/17 [==============================] - 7s 428ms/step - loss: 0.0038\n",
            "Epoch 69/100\n",
            "17/17 [==============================] - 7s 428ms/step - loss: 0.0034\n",
            "Epoch 70/100\n",
            "17/17 [==============================] - 7s 429ms/step - loss: 0.0035\n",
            "Epoch 71/100\n",
            "17/17 [==============================] - 7s 431ms/step - loss: 0.0042\n",
            "Epoch 72/100\n",
            "17/17 [==============================] - 7s 427ms/step - loss: 0.0032\n",
            "Epoch 73/100\n",
            "17/17 [==============================] - 7s 430ms/step - loss: 0.0032\n",
            "Epoch 74/100\n",
            "17/17 [==============================] - 7s 429ms/step - loss: 0.0038\n",
            "Epoch 75/100\n",
            "17/17 [==============================] - 7s 429ms/step - loss: 0.0038\n",
            "Epoch 76/100\n",
            "17/17 [==============================] - 7s 433ms/step - loss: 0.0032\n",
            "Epoch 77/100\n",
            "17/17 [==============================] - 7s 430ms/step - loss: 0.0028\n",
            "Epoch 78/100\n",
            "17/17 [==============================] - 7s 433ms/step - loss: 0.0034\n",
            "Epoch 79/100\n",
            "17/17 [==============================] - 7s 429ms/step - loss: 0.0027\n",
            "Epoch 80/100\n",
            "17/17 [==============================] - 7s 432ms/step - loss: 0.0031\n",
            "Epoch 81/100\n",
            "17/17 [==============================] - 7s 429ms/step - loss: 0.0027\n",
            "Epoch 82/100\n",
            "17/17 [==============================] - 7s 432ms/step - loss: 0.0027\n",
            "Epoch 83/100\n",
            "17/17 [==============================] - 7s 433ms/step - loss: 0.0024\n",
            "Epoch 84/100\n",
            "17/17 [==============================] - 7s 432ms/step - loss: 0.0034\n",
            "Epoch 85/100\n",
            "17/17 [==============================] - 7s 426ms/step - loss: 0.0032\n",
            "Epoch 86/100\n",
            "17/17 [==============================] - 7s 428ms/step - loss: 0.0029\n",
            "Epoch 87/100\n",
            "17/17 [==============================] - 7s 431ms/step - loss: 0.0025\n",
            "Epoch 88/100\n",
            "17/17 [==============================] - 7s 427ms/step - loss: 0.0027\n",
            "Epoch 89/100\n",
            "17/17 [==============================] - 7s 427ms/step - loss: 0.0031\n",
            "Epoch 90/100\n",
            "17/17 [==============================] - 7s 431ms/step - loss: 0.0027\n",
            "Epoch 91/100\n",
            "17/17 [==============================] - 7s 434ms/step - loss: 0.0025\n",
            "Epoch 92/100\n",
            "17/17 [==============================] - 7s 431ms/step - loss: 0.0027\n",
            "Epoch 93/100\n",
            "17/17 [==============================] - 7s 432ms/step - loss: 0.0029\n",
            "Epoch 94/100\n",
            "17/17 [==============================] - 7s 433ms/step - loss: 0.0026\n",
            "Epoch 95/100\n",
            "17/17 [==============================] - 7s 432ms/step - loss: 0.0021\n",
            "Epoch 96/100\n",
            "17/17 [==============================] - 7s 432ms/step - loss: 0.0029\n",
            "Epoch 97/100\n",
            "17/17 [==============================] - 7s 430ms/step - loss: 0.0024\n",
            "Epoch 98/100\n",
            "17/17 [==============================] - 7s 430ms/step - loss: 0.0026\n",
            "Epoch 99/100\n",
            "17/17 [==============================] - 7s 435ms/step - loss: 0.0026\n",
            "Epoch 100/100\n",
            "17/17 [==============================] - 7s 434ms/step - loss: 0.0027\n"
          ],
          "name": "stdout"
        },
        {
          "output_type": "execute_result",
          "data": {
            "text/plain": [
              "<tensorflow.python.keras.callbacks.History at 0x7fb07be106d0>"
            ]
          },
          "metadata": {
            "tags": []
          },
          "execution_count": 142
        }
      ]
    },
    {
      "cell_type": "code",
      "metadata": {
        "id": "wVLEqLl76jbH"
      },
      "source": [
        "predicted_stock_price3 = regressor.predict(X_test)\n",
        "predicted_stock_price3 = sc.inverse_transform(predicted_stock_price3)"
      ],
      "execution_count": null,
      "outputs": []
    },
    {
      "cell_type": "code",
      "metadata": {
        "colab": {
          "base_uri": "https://localhost:8080/"
        },
        "id": "c2oG5qCJ4nx3",
        "outputId": "c60c0032-1e4c-4b37-f25f-21ef4ef7e5e1"
      },
      "source": [
        "r2_score(real_stock_price, predicted_stock_price3)"
      ],
      "execution_count": null,
      "outputs": [
        {
          "output_type": "execute_result",
          "data": {
            "text/plain": [
              "0.5764106094573321"
            ]
          },
          "metadata": {
            "tags": []
          },
          "execution_count": 144
        }
      ]
    },
    {
      "cell_type": "code",
      "metadata": {
        "colab": {
          "base_uri": "https://localhost:8080/",
          "height": 295
        },
        "id": "urARO3FB4iRr",
        "outputId": "d930ca11-e9c1-4fa2-fb7a-5828f4348590"
      },
      "source": [
        "plt.figure(figsize=(8,4))\n",
        "plt.plot(real_stock_price, color = 'red', label = 'Valeur réelle action')\n",
        "plt.plot(predicted_stock_price3, color = 'blue', label = 'Valeur prédite action')\n",
        "plt.title('Prediction valeur action RNN')\n",
        "plt.xlabel('Time')\n",
        "plt.ylabel('Prix action')\n",
        "plt.legend()\n",
        "plt.show()"
      ],
      "execution_count": null,
      "outputs": [
        {
          "output_type": "display_data",
          "data": {
            "image/png": "[encoded data removed]",
            "text/plain": [
              "<Figure size 576x288 with 1 Axes>"
            ]
          },
          "metadata": {
            "tags": [],
            "needs_background": "light"
          }
        }
      ]
    },
    {
      "cell_type": "markdown",
      "metadata": {
        "id": "y66ZrAG9Al6D"
      },
      "source": [
        "# **Partie 3: Amélioration du modèle**"
      ]
    },
    {
      "cell_type": "markdown",
      "metadata": {
        "id": "Bp0jK-2kBkds"
      },
      "source": [
        "Ajoutons la variable Volume à notre dataset d'étude."
      ]
    },
    {
      "cell_type": "code",
      "metadata": {
        "id": "tZKGhIxsBjsb"
      },
      "source": [
        ""
      ],
      "execution_count": null,
      "outputs": []
    },
    {
      "cell_type": "code",
      "metadata": {
        "id": "x6_ealGy4n4l"
      },
      "source": [
        ""
      ],
      "execution_count": null,
      "outputs": []
    }
  ]
}